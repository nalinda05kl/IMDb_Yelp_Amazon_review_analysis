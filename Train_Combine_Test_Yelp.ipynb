{
 "cells": [
  {
   "cell_type": "markdown",
   "metadata": {},
   "source": [
    "> Importing needed libraries"
   ]
  },
  {
   "cell_type": "code",
   "execution_count": 35,
   "metadata": {},
   "outputs": [],
   "source": [
    "import pandas as pd\n",
    "import matplotlib as plt\n",
    "import string\n",
    "import nltk\n",
    "import re\n",
    "import unicodedata\n",
    "import numpy as np\n",
    "from sklearn.feature_extraction.text import CountVectorizer\n",
    "from sklearn.model_selection import train_test_split\n",
    "from nltk.stem import WordNetLemmatizer"
   ]
  },
  {
   "cell_type": "code",
   "execution_count": 36,
   "metadata": {},
   "outputs": [
    {
     "name": "stdout",
     "output_type": "stream",
     "text": [
      "[nltk_data] Downloading package wordnet to\n",
      "[nltk_data]     /Users/nalindakulathunga/nltk_data...\n",
      "[nltk_data]   Package wordnet is already up-to-date!\n"
     ]
    },
    {
     "data": {
      "text/plain": [
       "True"
      ]
     },
     "execution_count": 36,
     "metadata": {},
     "output_type": "execute_result"
    }
   ],
   "source": [
    "nltk.download('wordnet')"
   ]
  },
  {
   "cell_type": "code",
   "execution_count": 37,
   "metadata": {},
   "outputs": [],
   "source": [
    "filenames = ['amazon_cells_labelled.txt', 'imdb_labelled.txt', 'yelp_train.txt']\n",
    "with open('combined_reviews_ALL_YELP.txt', 'w') as outfile:\n",
    "    for fname in filenames:\n",
    "        with open(fname) as infile:\n",
    "            outfile.write(infile.read())\n",
    "            \n",
    "Combined_DF = pd.read_csv(\"combined_reviews_ALL_YELP.txt\", sep='\\t', names = [\"Review\", \"Label\"])\n",
    "Combined_DF = Combined_DF.sample(frac=1).reset_index(drop=True)"
   ]
  },
  {
   "cell_type": "code",
   "execution_count": 38,
   "metadata": {},
   "outputs": [
    {
     "name": "stdout",
     "output_type": "stream",
     "text": [
      "                                              Review  Label\n",
      "0                               Doesn't hold charge.      0\n",
      "1  Gave up trying to eat any of the crust (teeth ...      0\n",
      "2  So there is no way for me to plug it in here i...      0\n",
      "3  The seller is very understanding and patient, ...      1\n",
      "4  Overall, I was very disappointed with the qual...      0\n",
      "5  By the time the film ended, I not only dislike...      0\n",
      "6             The directing seems too pretentious.        0\n",
      "7  He was extremely rude and really, there are so...      0\n",
      "8                                  THey are so cool!      1\n",
      "9  Not only will it drain your player, but may al...      0\n"
     ]
    }
   ],
   "source": [
    "print Combined_DF.head(10)"
   ]
  },
  {
   "cell_type": "code",
   "execution_count": 39,
   "metadata": {},
   "outputs": [],
   "source": [
    "Combined_Df_RW = Combined_DF.drop('Label', axis=1)\n",
    "Combined_Df_LB = Combined_DF[\"Label\"]"
   ]
  },
  {
   "cell_type": "code",
   "execution_count": 40,
   "metadata": {},
   "outputs": [
    {
     "name": "stdout",
     "output_type": "stream",
     "text": [
      "\n",
      "___________ Reviews _____________\n",
      "\n",
      "                                              Review\n",
      "0                               Doesn't hold charge.\n",
      "1  Gave up trying to eat any of the crust (teeth ...\n",
      "2  So there is no way for me to plug it in here i...\n",
      "3  The seller is very understanding and patient, ...\n",
      "4  Overall, I was very disappointed with the qual...\n",
      "5  By the time the film ended, I not only dislike...\n",
      "6             The directing seems too pretentious.  \n",
      "7  He was extremely rude and really, there are so...\n",
      "8                                  THey are so cool!\n",
      "9  Not only will it drain your player, but may al...\n",
      "\n",
      "___________ Labels _____________\n",
      "\n",
      "0    0\n",
      "1    0\n",
      "2    0\n",
      "3    1\n",
      "4    0\n",
      "5    0\n",
      "6    0\n",
      "7    0\n",
      "8    1\n",
      "9    0\n",
      "Name: Label, dtype: int64\n"
     ]
    }
   ],
   "source": [
    "print \"\\n___________ Reviews _____________\\n\"\n",
    "print Combined_Df_RW.head(10)\n",
    "print \"\\n___________ Labels _____________\\n\"\n",
    "print Combined_Df_LB.head(10)"
   ]
  },
  {
   "cell_type": "markdown",
   "metadata": {},
   "source": [
    "> Spliting data in to training and testing sets:"
   ]
  },
  {
   "cell_type": "code",
   "execution_count": 41,
   "metadata": {},
   "outputs": [],
   "source": [
    "Yelp_test_DF = pd.read_csv(\"yelp_test.txt\", sep='\\t', names = [\"Review\", \"Label\"])\n",
    "Yelp_test_Df_RW = Yelp_test_DF.drop('Label', axis=1)\n",
    "Yelp_test_Df_LB = Yelp_test_DF[\"Label\"]\n",
    "\n",
    "X_train = Combined_Df_RW\n",
    "X_test  = Yelp_test_Df_RW\n",
    "y_train = Combined_Df_LB\n",
    "y_test  = Yelp_test_Df_LB\n",
    "\n",
    "#X_train, X_test, y_train, y_test = train_test_split(Combined_Df_RW, Combined_Df_LB, test_size=0.33, random_state=42)"
   ]
  },
  {
   "cell_type": "code",
   "execution_count": 42,
   "metadata": {},
   "outputs": [
    {
     "name": "stdout",
     "output_type": "stream",
     "text": [
      "\n",
      "___________ Training Reviews _____________\n",
      "\n",
      "                                              Review\n",
      "0                               Doesn't hold charge.\n",
      "1  Gave up trying to eat any of the crust (teeth ...\n",
      "2  So there is no way for me to plug it in here i...\n",
      "3  The seller is very understanding and patient, ...\n",
      "4  Overall, I was very disappointed with the qual...\n",
      "\n",
      "___________ Training Labels _____________\n",
      "\n",
      "0    0\n",
      "1    0\n",
      "2    0\n",
      "3    1\n",
      "4    0\n",
      "Name: Label, dtype: int64\n"
     ]
    }
   ],
   "source": [
    "print \"\\n___________ Training Reviews _____________\\n\"\n",
    "print X_train.head()\n",
    "print \"\\n___________ Training Labels _____________\\n\"\n",
    "print y_train.head()"
   ]
  },
  {
   "cell_type": "code",
   "execution_count": 43,
   "metadata": {},
   "outputs": [
    {
     "name": "stdout",
     "output_type": "stream",
     "text": [
      "\n",
      "___________ Testing Reviews _____________\n",
      "\n",
      "                                              Review\n",
      "0  I also had to taste my Mom's multi-grain pumpk...\n",
      "1            I'd rather eat airline food, seriously.\n",
      "2      Cant say enough good things about this place.\n",
      "3                       The ambiance was incredible.\n",
      "4          The waitress and manager are so friendly.\n",
      "\n",
      "___________ Testing Labels _____________\n",
      "\n",
      "0    1\n",
      "1    0\n",
      "2    1\n",
      "3    1\n",
      "4    1\n",
      "Name: Label, dtype: int64\n"
     ]
    }
   ],
   "source": [
    "print \"\\n___________ Testing Reviews _____________\\n\"\n",
    "print X_test.head()\n",
    "print \"\\n___________ Testing Labels _____________\\n\"\n",
    "print y_test.head()"
   ]
  },
  {
   "cell_type": "code",
   "execution_count": 44,
   "metadata": {},
   "outputs": [
    {
     "name": "stdout",
     "output_type": "stream",
     "text": [
      "\n",
      "Training data length:\n",
      "2248\n",
      "\n",
      "Testing data length:\n",
      "500\n"
     ]
    }
   ],
   "source": [
    "print \"\\nTraining data length:\"\n",
    "print len(X_train)\n",
    "print \"\\nTesting data length:\"\n",
    "print len(X_test)"
   ]
  },
  {
   "cell_type": "markdown",
   "metadata": {},
   "source": [
    "> Naive Guesser: (assuming all labels to be positive)"
   ]
  },
  {
   "cell_type": "code",
   "execution_count": 45,
   "metadata": {},
   "outputs": [
    {
     "name": "stdout",
     "output_type": "stream",
     "text": [
      "length of the naively assumed list:\n",
      "500\n"
     ]
    }
   ],
   "source": [
    "Y_pred_all_Pos = []\n",
    "\n",
    "for i in range(len(X_test)):\n",
    "    Y_pred_all_Pos.append(1)\n",
    "\n",
    "print \"length of the naively assumed list:\"\n",
    "print len(Y_pred_all_Pos)\n"
   ]
  },
  {
   "cell_type": "code",
   "execution_count": 46,
   "metadata": {},
   "outputs": [
    {
     "name": "stdout",
     "output_type": "stream",
     "text": [
      "Accuracy with Naive guesser:\n",
      "0.438\n"
     ]
    }
   ],
   "source": [
    "print \"Accuracy with Naive guesser:\"\n",
    "print np.mean(Y_pred_all_Pos == y_test)"
   ]
  },
  {
   "cell_type": "code",
   "execution_count": 47,
   "metadata": {},
   "outputs": [
    {
     "name": "stdout",
     "output_type": "stream",
     "text": [
      "             precision    recall  f1-score   support\n",
      "\n",
      "          P       0.00      0.00      0.00       281\n",
      "          N       0.44      1.00      0.61       219\n",
      "\n",
      "avg / total       0.19      0.44      0.27       500\n",
      "\n"
     ]
    }
   ],
   "source": [
    "from sklearn import metrics\n",
    "print(metrics.classification_report(y_test, Y_pred_all_Pos, target_names=\"PN\"))"
   ]
  },
  {
   "cell_type": "markdown",
   "metadata": {},
   "source": [
    "> Functions prepare words for lemmatizing"
   ]
  },
  {
   "cell_type": "code",
   "execution_count": 48,
   "metadata": {},
   "outputs": [],
   "source": [
    "def strip_accents(text):\n",
    "    \"\"\"\n",
    "    Remove accents from input String.\n",
    "    \"\"\"\n",
    "    try:\n",
    "        text = unicode(text, 'utf-8')\n",
    "    except (TypeError, NameError): # unicode is a default on python 3 \n",
    "        pass\n",
    "    text = unicodedata.normalize('NFD', text)\n",
    "    text = text.encode('ascii', 'ignore')\n",
    "    text = text.decode(\"utf-8\")\n",
    "    return str(text)\n",
    "\n",
    "def text_to_id(text):\n",
    "    \"\"\"\n",
    "    Convert input text to id.\n",
    "    \"\"\"\n",
    "    text = strip_accents(text.lower())\n",
    "    text = re.sub('[ ]+', '_', text)\n",
    "    text = re.sub('[^0-9a-zA-Z_-]', '', text)\n",
    "    return text"
   ]
  },
  {
   "cell_type": "markdown",
   "metadata": {},
   "source": [
    "> Pre-Processing"
   ]
  },
  {
   "cell_type": "code",
   "execution_count": 49,
   "metadata": {},
   "outputs": [],
   "source": [
    "def PreProcess(InList = []):\n",
    "    \"\"\"\n",
    "    This function gets an input list and remove punctuations, convers charactors to lower case and laso look for \n",
    "    any empty strings if available. Then it lemmatize the words. Returns a list with lemmatized sentences. \n",
    "    \"\"\"\n",
    "    X_List_nopunc = [''.join(c for c in s if c not in string.punctuation) for s in InList]\n",
    "    X_List_nopunc_noempty = [s for s in X_List_nopunc if s]\n",
    "    X_List_nopunc_noempty_nocaps = [x.lower() for x in X_List_nopunc_noempty]\n",
    "    \n",
    "    sent_list = []\n",
    "\n",
    "    count = 0\n",
    "    for item in range(len(InList)):\n",
    "        count += 1\n",
    "        word_string = \"\"\n",
    "        for word in X_List_nopunc_noempty_nocaps[item][:].split(): \n",
    "            word_str = text_to_id(word)\n",
    "            new_word = WordNetLemmatizer().lemmatize(word_str, 'v')\n",
    "            word_string += str(new_word) + \" \"\n",
    "        if word_string != \"\":\n",
    "            sent_list.append(word_string)\n",
    "    \n",
    "    return sent_list"
   ]
  },
  {
   "cell_type": "code",
   "execution_count": 50,
   "metadata": {},
   "outputs": [],
   "source": [
    "X_train_List = X_train[\"Review\"].tolist()\n",
    "X_train_List_cleaned = PreProcess(X_train_List)\n",
    "\n",
    "X_test_List = X_test[\"Review\"].tolist()\n",
    "X_test_List_cleaned = PreProcess(X_test_List)"
   ]
  },
  {
   "cell_type": "markdown",
   "metadata": {},
   "source": [
    "> Making a pipeline for the process with Multinomial Naive Bayes classifier:"
   ]
  },
  {
   "cell_type": "code",
   "execution_count": 51,
   "metadata": {},
   "outputs": [],
   "source": [
    "from sklearn.pipeline import Pipeline\n",
    "from sklearn.feature_extraction.text import TfidfTransformer\n",
    "from sklearn.naive_bayes import MultinomialNB\n",
    "text_clf_optimized = Pipeline([('vect_opt', CountVectorizer(stop_words='english')),\n",
    "                     ('tfidf_opt', TfidfTransformer()),\n",
    "                     ('clf_opt', MultinomialNB(alpha=0.6))])"
   ]
  },
  {
   "cell_type": "code",
   "execution_count": 52,
   "metadata": {},
   "outputs": [
    {
     "data": {
      "text/plain": [
       "Pipeline(steps=[('vect_opt', CountVectorizer(analyzer=u'word', binary=False, decode_error=u'strict',\n",
       "        dtype=<type 'numpy.int64'>, encoding=u'utf-8', input=u'content',\n",
       "        lowercase=True, max_df=1.0, max_features=None, min_df=1,\n",
       "        ngram_range=(1, 1), preprocessor=None, stop_words='english',\n",
       " ...e,\n",
       "         use_idf=True)), ('clf_opt', MultinomialNB(alpha=0.6, class_prior=None, fit_prior=True))])"
      ]
     },
     "execution_count": 52,
     "metadata": {},
     "output_type": "execute_result"
    }
   ],
   "source": [
    "text_clf_optimized.fit(X_train_List_cleaned, y_train) "
   ]
  },
  {
   "cell_type": "code",
   "execution_count": 53,
   "metadata": {},
   "outputs": [
    {
     "name": "stdout",
     "output_type": "stream",
     "text": [
      "Accuracy (Trained on all and tested on Yelp):\n",
      "0.772\n"
     ]
    }
   ],
   "source": [
    "predicted_opt = text_clf_optimized.predict(X_test_List_cleaned)\n",
    "print \"Accuracy (Trained on all and tested on Yelp):\"\n",
    "print np.mean(predicted_opt == y_test)"
   ]
  },
  {
   "cell_type": "code",
   "execution_count": 54,
   "metadata": {},
   "outputs": [
    {
     "name": "stdout",
     "output_type": "stream",
     "text": [
      "             precision    recall  f1-score   support\n",
      "\n",
      "          P       0.88      0.69      0.77       281\n",
      "          N       0.69      0.88      0.77       219\n",
      "\n",
      "avg / total       0.79      0.77      0.77       500\n",
      "\n"
     ]
    }
   ],
   "source": [
    "print(metrics.classification_report(y_test, predicted_opt, target_names=\"PN\"))"
   ]
  },
  {
   "cell_type": "markdown",
   "metadata": {},
   "source": [
    "> Confusion metrix plotting:"
   ]
  },
  {
   "cell_type": "code",
   "execution_count": 55,
   "metadata": {},
   "outputs": [],
   "source": [
    "import itertools\n",
    "import numpy as np\n",
    "import matplotlib.pyplot as pltpy\n",
    "\n",
    "def plot_confusion_matrix(cm, classes,\n",
    "                          normalize=False,\n",
    "                          title='Confusion matrix',\n",
    "                          cmap=pltpy.cm.Blues):\n",
    "    \"\"\"\n",
    "    This function prints and plots the confusion matrix.\n",
    "    Normalization can be applied by setting `normalize=True`.\n",
    "    \"\"\"\n",
    "    if normalize:\n",
    "        cm = cm.astype('float') / cm.sum(axis=1)[:, np.newaxis]\n",
    "        print(\"Normalized confusion matrix\")\n",
    "    else:\n",
    "        print('Confusion matrix, without normalization')\n",
    "\n",
    "    print(cm)\n",
    "\n",
    "    pltpy.imshow(cm, interpolation='nearest', cmap=cmap)\n",
    "    pltpy.title(title)\n",
    "    pltpy.colorbar()\n",
    "    tick_marks = np.arange(len(classes))\n",
    "    pltpy.xticks(tick_marks, classes, rotation=45)\n",
    "    pltpy.yticks(tick_marks, classes)\n",
    "\n",
    "    fmt = '.2f' if normalize else 'd'\n",
    "    thresh = cm.max() / 2.\n",
    "    for i, j in itertools.product(range(cm.shape[0]), range(cm.shape[1])):\n",
    "        pltpy.text(j, i, format(cm[i, j], fmt),\n",
    "                 horizontalalignment=\"center\",\n",
    "                 color=\"white\" if cm[i, j] > thresh else \"black\")\n",
    "\n",
    "    pltpy.tight_layout()\n",
    "    pltpy.ylabel('True label')\n",
    "    pltpy.xlabel('Predicted label')"
   ]
  },
  {
   "cell_type": "markdown",
   "metadata": {},
   "source": [
    "> Confusion matrix for MultinomialNB:"
   ]
  },
  {
   "cell_type": "code",
   "execution_count": 56,
   "metadata": {},
   "outputs": [
    {
     "name": "stdout",
     "output_type": "stream",
     "text": [
      "Confusion matrix, without normalization\n",
      "[[194  87]\n",
      " [ 27 192]]\n"
     ]
    },
    {
     "data": {
      "image/png": "[encoded data removed]",
      "text/plain": [
       "<matplotlib.figure.Figure at 0x1168de210>"
      ]
     },
     "metadata": {},
     "output_type": "display_data"
    }
   ],
   "source": [
    "from sklearn.metrics import confusion_matrix\n",
    "\n",
    "# Compute confusion matrix\n",
    "cnf_matrix_NB = confusion_matrix(y_test, predicted_opt)\n",
    "np.set_printoptions(precision=2)\n",
    "\n",
    "# Plot non-normalized confusion matrix\n",
    "pltpy.figure()\n",
    "plot_confusion_matrix(cnf_matrix_NB, classes=\"NP\",\n",
    "                      title='Confusion matrix - Trained on all and tested on Yelp')\n",
    "pltpy.show()"
   ]
  },
  {
   "cell_type": "code",
   "execution_count": null,
   "metadata": {},
   "outputs": [],
   "source": []
  }
 ],
 "metadata": {
  "kernelspec": {
   "display_name": "Python 2",
   "language": "python",
   "name": "python2"
  },
  "language_info": {
   "codemirror_mode": {
    "name": "ipython",
    "version": 2
   },
   "file_extension": ".py",
   "mimetype": "text/x-python",
   "name": "python",
   "nbconvert_exporter": "python",
   "pygments_lexer": "ipython2",
   "version": "2.7.13"
  }
 },
 "nbformat": 4,
 "nbformat_minor": 2
}
