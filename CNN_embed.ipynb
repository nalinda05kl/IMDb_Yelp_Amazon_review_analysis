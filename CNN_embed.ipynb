{
 "cells": [
  {
   "cell_type": "markdown",
   "metadata": {},
   "source": [
    "# This notebook shows the steps in training and evaluating a CNN with hidden layers. I have tried three different models with different complexcity. But the accuracy scores were not better than MultinomialNB and SGDclasifier."
   ]
  },
  {
   "cell_type": "code",
   "execution_count": 66,
   "metadata": {},
   "outputs": [],
   "source": [
    "import pandas as pd\n",
    "import matplotlib as plt\n",
    "import string\n",
    "import nltk\n",
    "import re\n",
    "import unicodedata\n",
    "import numpy as np\n",
    "from sklearn.feature_extraction.text import CountVectorizer\n",
    "from sklearn.model_selection import train_test_split\n",
    "from nltk.stem import WordNetLemmatizer"
   ]
  },
  {
   "cell_type": "code",
   "execution_count": 67,
   "metadata": {},
   "outputs": [
    {
     "name": "stdout",
     "output_type": "stream",
     "text": [
      "[nltk_data] Downloading package wordnet to\n",
      "[nltk_data]     /Users/nalindakulathunga/nltk_data...\n",
      "[nltk_data]   Package wordnet is already up-to-date!\n"
     ]
    },
    {
     "data": {
      "text/plain": [
       "True"
      ]
     },
     "execution_count": 67,
     "metadata": {},
     "output_type": "execute_result"
    }
   ],
   "source": [
    "nltk.download('wordnet')"
   ]
  },
  {
   "cell_type": "code",
   "execution_count": 68,
   "metadata": {},
   "outputs": [],
   "source": [
    "filenames = ['amazon_cells_labelled.txt', 'imdb_labelled.txt', 'yelp_labelled.txt']\n",
    "with open('combined_reviews.txt', 'w') as outfile:\n",
    "    for fname in filenames:\n",
    "        with open(fname) as infile:\n",
    "            outfile.write(infile.read())\n",
    "            \n",
    "Combined_DF = pd.read_csv(\"combined_reviews.txt\", sep='\\t', names = [\"Review\", \"Label\"])\n",
    "Combined_DF = Combined_DF.sample(frac=1).reset_index(drop=True)"
   ]
  },
  {
   "cell_type": "code",
   "execution_count": 69,
   "metadata": {},
   "outputs": [
    {
     "name": "stdout",
     "output_type": "stream",
     "text": [
      "                                              Review  Label\n",
      "0  Not much dialogue, not much music, the whole f...      1\n",
      "1  Unfortunately, 'Cover Girl' is an example of h...      0\n",
      "2  Emily Watson's character is very strong, and s...      1\n",
      "3            I'd rather eat airline food, seriously.      0\n",
      "4  It features an outlandish array of memorable, ...      1\n",
      "5  The food was outstanding and the prices were v...      1\n",
      "6             The service was not up to par, either.      0\n",
      "7  It has northern humour and positive about the ...      1\n",
      "8                                        Worst ever.      0\n",
      "9            I had a seriously solid breakfast here.      1\n"
     ]
    }
   ],
   "source": [
    "print Combined_DF.head(10)"
   ]
  },
  {
   "cell_type": "code",
   "execution_count": 70,
   "metadata": {},
   "outputs": [],
   "source": [
    "Combined_Df_RW = Combined_DF.drop('Label', axis=1)\n",
    "Combined_Df_LB = Combined_DF[\"Label\"]"
   ]
  },
  {
   "cell_type": "code",
   "execution_count": 71,
   "metadata": {},
   "outputs": [],
   "source": [
    "X_train, X_test, y_train, y_test = train_test_split(Combined_Df_RW, Combined_Df_LB, test_size=0.33, random_state=42)"
   ]
  },
  {
   "cell_type": "code",
   "execution_count": 72,
   "metadata": {},
   "outputs": [
    {
     "name": "stdout",
     "output_type": "stream",
     "text": [
      "1841\n"
     ]
    }
   ],
   "source": [
    "print len(X_train)"
   ]
  },
  {
   "cell_type": "code",
   "execution_count": 73,
   "metadata": {},
   "outputs": [
    {
     "name": "stdout",
     "output_type": "stream",
     "text": [
      "907\n"
     ]
    }
   ],
   "source": [
    "print len(X_test)"
   ]
  },
  {
   "cell_type": "code",
   "execution_count": 74,
   "metadata": {},
   "outputs": [],
   "source": [
    "def strip_accents(text):\n",
    "    \"\"\"\n",
    "    Remove accents from input String.\n",
    "    \"\"\"\n",
    "    try:\n",
    "        text = unicode(text, 'utf-8')\n",
    "    except (TypeError, NameError): \n",
    "        pass\n",
    "    text = unicodedata.normalize('NFD', text)\n",
    "    text = text.encode('ascii', 'ignore')\n",
    "    text = text.decode(\"utf-8\")\n",
    "    return str(text)\n",
    "\n",
    "def text_to_id(text):\n",
    "    \"\"\"\n",
    "    Convert input text to id.\n",
    "    \"\"\"\n",
    "    text = strip_accents(text.lower())\n",
    "    text = re.sub('[ ]+', '_', text)\n",
    "    text = re.sub('[^0-9a-zA-Z_-]', '', text)\n",
    "    return text"
   ]
  },
  {
   "cell_type": "code",
   "execution_count": 75,
   "metadata": {},
   "outputs": [],
   "source": [
    "def PreProcess(InList = []):\n",
    "    X_List_nopunc = [''.join(c for c in s if c not in string.punctuation) for s in InList]\n",
    "    X_List_nopunc_noempty = [s for s in X_List_nopunc if s]\n",
    "    X_List_nopunc_noempty_nocaps = [x.lower() for x in X_List_nopunc_noempty]\n",
    "    \n",
    "    sent_list = []\n",
    "\n",
    "    count = 0\n",
    "    for item in range(len(InList)):\n",
    "        count += 1\n",
    "        word_string = \"\"\n",
    "        for word in X_List_nopunc_noempty_nocaps[item][:].split(): \n",
    "            word_str = text_to_id(word)\n",
    "            new_word = WordNetLemmatizer().lemmatize(word_str, 'v')\n",
    "            word_string += str(new_word) + \" \"\n",
    "        if word_string != \"\":\n",
    "            sent_list.append(word_string)\n",
    "    \n",
    "    return sent_list"
   ]
  },
  {
   "cell_type": "code",
   "execution_count": 76,
   "metadata": {},
   "outputs": [],
   "source": [
    "X_train_List = X_train[\"Review\"].tolist()\n",
    "X_train_List_cleaned = PreProcess(X_train_List)\n",
    "\n",
    "X_test_List = X_test[\"Review\"].tolist()\n",
    "X_test_List_cleaned = PreProcess(X_test_List)"
   ]
  },
  {
   "cell_type": "code",
   "execution_count": 77,
   "metadata": {},
   "outputs": [
    {
     "name": "stdout",
     "output_type": "stream",
     "text": [
      "['please dont waste your money ', 'what happen next be prettyoff put ', 'who in their right mind be gonna buy this battery ', 'service be quick and friendly ', 'hawaiian breeze mango magic and pineapple delight be the smoothies that ive try so far and theyre all good ', 'i love the fact that everything on their menu be worth it ', 'when i open the sandwich i be impress but not in a good way ', 'and consider the two of us leave there very full and happy for about 20 you just cant go wrong ', 'this pair of headphones be the worst that i have ever have soundwise ', 'ive live here since 1979 and this be the first and last time ive step foot into this place ']\n"
     ]
    }
   ],
   "source": [
    "print X_train_List_cleaned[:10]"
   ]
  },
  {
   "cell_type": "code",
   "execution_count": 78,
   "metadata": {},
   "outputs": [
    {
     "name": "stdout",
     "output_type": "stream",
     "text": [
      "['first off the reception suck i have never have more than 2 bar ever ', 'angus scrimm also turn in a good performance in a somewhat brief but memorable role as the gently menace violinplaying anatomist doctor quinn ', 'however after see the short again after about 25 years i be amaze at how timeless the film actually be ', 'great food for the price which be very high quality and house make ', 'for that price i can think of a few place i would have much rather go ', 'for a self proclaim coffee cafe i be wildly disappoint ', 'ive drop my phone more time than i can say even on concrete and my phone be still great knock on wood ', 'wont ever go here again ', 'she carry the movie well ', 'this place deserve one star and 90 have to do with the food ']\n"
     ]
    }
   ],
   "source": [
    "print X_test_List_cleaned[:10]"
   ]
  },
  {
   "cell_type": "code",
   "execution_count": 79,
   "metadata": {},
   "outputs": [],
   "source": [
    "from nltk.corpus import stopwords\n",
    "from nltk.tokenize import word_tokenize\n",
    "  \n",
    "def StopWordsRemove(InList):\n",
    "    stop_words = set(stopwords.words('english'))\n",
    "    OutList = []\n",
    "    for item in InList:\n",
    "        word_tokens = word_tokenize(item)\n",
    "        sent_WO_stop = [w for w in word_tokens if not w in stop_words]\n",
    "        sent_WO_stop = \"\"\n",
    "    \n",
    "        for w in word_tokens:\n",
    "            if w not in stop_words:\n",
    "                sent_WO_stop += w\n",
    "                sent_WO_stop += \" \"\n",
    "            \n",
    "        OutList.append(sent_WO_stop)\n",
    "    return OutList"
   ]
  },
  {
   "cell_type": "code",
   "execution_count": 80,
   "metadata": {},
   "outputs": [],
   "source": [
    "X_train_List_F = StopWordsRemove(X_train_List_cleaned)\n",
    "X_test_List_F = StopWordsRemove(X_test_List_cleaned)"
   ]
  },
  {
   "cell_type": "code",
   "execution_count": 81,
   "metadata": {},
   "outputs": [],
   "source": [
    "from keras.preprocessing.text import one_hot\n",
    "from keras.preprocessing.sequence import pad_sequences\n",
    "from keras.models import Sequential\n",
    "from keras.layers import Dense\n",
    "from keras.layers import Flatten\n",
    "from keras.layers.embeddings import Embedding\n",
    "\n",
    "from keras.layers import Dropout\n",
    "from keras.layers import Convolution1D"
   ]
  },
  {
   "cell_type": "code",
   "execution_count": 82,
   "metadata": {},
   "outputs": [],
   "source": [
    "# integer encode the documents\n",
    "vocab_size = 4000\n",
    "encoded_docs = [one_hot(d, vocab_size) for d in X_train_List_F]\n",
    "#print(encoded_docs)"
   ]
  },
  {
   "cell_type": "code",
   "execution_count": 83,
   "metadata": {},
   "outputs": [],
   "source": [
    "# pad documents to a max length of 4 words\n",
    "max_length = 200\n",
    "padded_docs = pad_sequences(encoded_docs, maxlen=max_length, padding='post')\n",
    "#for item in padded_docs:\n",
    "    #print(item)\n",
    "    #print \"\\n\""
   ]
  },
  {
   "cell_type": "code",
   "execution_count": 85,
   "metadata": {},
   "outputs": [
    {
     "name": "stderr",
     "output_type": "stream",
     "text": [
      "/Users/nalindakulathunga/.local/lib/python2.7/site-packages/ipykernel_launcher.py:27: UserWarning: Update your `Conv1D` call to the Keras 2 API: `Conv1D(64, 3, padding=\"same\")`\n",
      "/Users/nalindakulathunga/.local/lib/python2.7/site-packages/ipykernel_launcher.py:28: UserWarning: Update your `Conv1D` call to the Keras 2 API: `Conv1D(32, 3, padding=\"same\")`\n",
      "/Users/nalindakulathunga/.local/lib/python2.7/site-packages/ipykernel_launcher.py:29: UserWarning: Update your `Conv1D` call to the Keras 2 API: `Conv1D(16, 3, padding=\"same\")`\n",
      "/Users/nalindakulathunga/.local/lib/python2.7/site-packages/ipykernel_launcher.py:30: UserWarning: Update your `Conv1D` call to the Keras 2 API: `Conv1D(8, 3, padding=\"same\")`\n"
     ]
    },
    {
     "name": "stdout",
     "output_type": "stream",
     "text": [
      "_________________________________________________________________\n",
      "Layer (type)                 Output Shape              Param #   \n",
      "=================================================================\n",
      "embedding_7 (Embedding)      (None, 200, 200)          800000    \n",
      "_________________________________________________________________\n",
      "conv1d_9 (Conv1D)            (None, 200, 64)           38464     \n",
      "_________________________________________________________________\n",
      "conv1d_10 (Conv1D)           (None, 200, 32)           6176      \n",
      "_________________________________________________________________\n",
      "conv1d_11 (Conv1D)           (None, 200, 16)           1552      \n",
      "_________________________________________________________________\n",
      "conv1d_12 (Conv1D)           (None, 200, 8)            392       \n",
      "_________________________________________________________________\n",
      "flatten_7 (Flatten)          (None, 1600)              0         \n",
      "_________________________________________________________________\n",
      "dropout_7 (Dropout)          (None, 1600)              0         \n",
      "_________________________________________________________________\n",
      "dense_10 (Dense)             (None, 180)               288180    \n",
      "_________________________________________________________________\n",
      "dropout_8 (Dropout)          (None, 180)               0         \n",
      "_________________________________________________________________\n",
      "dense_11 (Dense)             (None, 1)                 181       \n",
      "=================================================================\n",
      "Total params: 1,134,945.0\n",
      "Trainable params: 1,134,945.0\n",
      "Non-trainable params: 0.0\n",
      "_________________________________________________________________\n",
      "None\n"
     ]
    }
   ],
   "source": [
    "############## __model_01__ ##################\n",
    "#model = Sequential()\n",
    "#model.add(Embedding(vocab_size, 100, input_length=max_length))\n",
    "#model.add(Flatten())\n",
    "#model.add(Dense(1, activation='sigmoid'))\n",
    "#model.compile(optimizer='adam', loss='binary_crossentropy', metrics=['acc'])\n",
    "#print(model.summary())\n",
    "#############################################\n",
    "\n",
    "############## __model_02__ ##################\n",
    "#model = Sequential()\n",
    "#model.add(Embedding(vocab_size, max_length, input_length=max_length))\n",
    "#model.add(Convolution1D(64, 3, border_mode='same'))\n",
    "#model.add(Convolution1D(32, 3, border_mode='same'))\n",
    "#model.add(Flatten())\n",
    "#model.add(Dropout(0.2))\n",
    "#model.add(Dense(180,activation='relu'))\n",
    "#model.add(Dropout(0.2))\n",
    "#model.add(Dense(1,activation='sigmoid'))\n",
    "#model.compile(loss='binary_crossentropy', optimizer='adam', metrics=['accuracy'])\n",
    "#print(model.summary())\n",
    "#############################################\n",
    "\n",
    "############## __model_03__ ##################\n",
    "model = Sequential()\n",
    "model.add(Embedding(vocab_size, max_length, input_length=max_length))\n",
    "model.add(Convolution1D(64, 3, border_mode='same'))\n",
    "model.add(Convolution1D(32, 3, border_mode='same'))\n",
    "model.add(Convolution1D(16, 3, border_mode='same'))\n",
    "model.add(Convolution1D(8, 3, border_mode='same'))\n",
    "model.add(Flatten())\n",
    "model.add(Dropout(0.1))\n",
    "model.add(Dense(180,activation='sigmoid'))\n",
    "model.add(Dropout(0.1))\n",
    "model.add(Dense(1,activation='sigmoid'))\n",
    "model.compile(loss='binary_crossentropy', optimizer='adam', metrics=['accuracy'])\n",
    "print(model.summary())\n",
    "#############################################\n",
    "\n"
   ]
  },
  {
   "cell_type": "code",
   "execution_count": 86,
   "metadata": {},
   "outputs": [
    {
     "name": "stdout",
     "output_type": "stream",
     "text": [
      "Epoch 1/10\n",
      "1841/1841 [==============================] - 5s - loss: 0.7038 - acc: 0.4883     \n",
      "Epoch 2/10\n",
      "1841/1841 [==============================] - 4s - loss: 0.7020 - acc: 0.4981     \n",
      "Epoch 3/10\n",
      "1841/1841 [==============================] - 4s - loss: 0.5730 - acc: 0.6741     \n",
      "Epoch 4/10\n",
      "1841/1841 [==============================] - 4s - loss: 0.3013 - acc: 0.8751     \n",
      "Epoch 5/10\n",
      "1841/1841 [==============================] - 4s - loss: 0.1750 - acc: 0.9348     \n",
      "Epoch 6/10\n",
      "1841/1841 [==============================] - 4s - loss: 0.1075 - acc: 0.9614     \n",
      "Epoch 7/10\n",
      "1841/1841 [==============================] - 4s - loss: 0.0689 - acc: 0.9783     \n",
      "Epoch 8/10\n",
      "1841/1841 [==============================] - 4s - loss: 0.0579 - acc: 0.9832     \n",
      "Epoch 9/10\n",
      "1841/1841 [==============================] - 4s - loss: 0.0462 - acc: 0.9880     \n",
      "Epoch 10/10\n",
      "1841/1841 [==============================] - 4s - loss: 0.0415 - acc: 0.9880     \n"
     ]
    },
    {
     "data": {
      "text/plain": [
       "<keras.callbacks.History at 0x1240b2dd0>"
      ]
     },
     "execution_count": 86,
     "metadata": {},
     "output_type": "execute_result"
    }
   ],
   "source": [
    "model.fit(padded_docs, y_train, epochs=10, verbose=1)"
   ]
  },
  {
   "cell_type": "code",
   "execution_count": 87,
   "metadata": {},
   "outputs": [],
   "source": [
    "vocab_size = 4000\n",
    "encoded_docs_test = [one_hot(d, vocab_size) for d in X_test_List_F]\n",
    "max_length = 200\n",
    "padded_docs_test = pad_sequences(encoded_docs_test, maxlen=max_length, padding='post')"
   ]
  },
  {
   "cell_type": "code",
   "execution_count": 88,
   "metadata": {},
   "outputs": [
    {
     "name": "stdout",
     "output_type": "stream",
     "text": [
      "[[1633 3581 3774 ...    0    0    0]\n",
      " [1333 2792 1470 ...    0    0    0]\n",
      " [3403 2775  117 ...    0    0    0]\n",
      " ...\n",
      " [3330  793 3655 ...    0    0    0]\n",
      " [3387 1032   94 ...    0    0    0]\n",
      " [ 912    8    0 ...    0    0    0]]\n"
     ]
    }
   ],
   "source": [
    "print padded_docs_test"
   ]
  },
  {
   "cell_type": "code",
   "execution_count": 89,
   "metadata": {},
   "outputs": [
    {
     "name": "stdout",
     "output_type": "stream",
     "text": [
      "896/907 [============================>.] - ETA: 0sAccuracy: 72.657111\n"
     ]
    }
   ],
   "source": [
    "#evaluate the model\n",
    "loss, accuracy = model.evaluate(padded_docs_test, y_test)\n",
    "print('Accuracy: %f' % (accuracy*100))\n",
    "\n",
    "#pred = model.predict(padded_docs_test)"
   ]
  },
  {
   "cell_type": "code",
   "execution_count": 90,
   "metadata": {},
   "outputs": [
    {
     "name": "stdout",
     "output_type": "stream",
     "text": [
      "907\n",
      "907\n"
     ]
    }
   ],
   "source": [
    "#print pred\n",
    "#from sklearn.metrics import accuracy_score\n",
    "#print accuracy_score(y_test, pred)\n",
    "print len(padded_docs_test)\n",
    "print len(y_test)"
   ]
  },
  {
   "cell_type": "code",
   "execution_count": 91,
   "metadata": {},
   "outputs": [],
   "source": [
    "y_pred = model.predict(np.array(padded_docs_test))"
   ]
  },
  {
   "cell_type": "code",
   "execution_count": 92,
   "metadata": {},
   "outputs": [],
   "source": [
    "y_pred_2 = []\n",
    "for item in y_pred:\n",
    "    x = int(round(item))\n",
    "    y_pred_2.append(x)"
   ]
  },
  {
   "cell_type": "code",
   "execution_count": 93,
   "metadata": {},
   "outputs": [
    {
     "name": "stdout",
     "output_type": "stream",
     "text": [
      "0.7265711135611908\n"
     ]
    }
   ],
   "source": [
    "from sklearn.metrics import accuracy_score\n",
    "print accuracy_score(y_test, y_pred_2)"
   ]
  },
  {
   "cell_type": "code",
   "execution_count": 94,
   "metadata": {},
   "outputs": [
    {
     "name": "stdout",
     "output_type": "stream",
     "text": [
      "             precision    recall  f1-score   support\n",
      "\n",
      "          P       0.68      0.81      0.74       438\n",
      "          N       0.79      0.65      0.71       469\n",
      "\n",
      "avg / total       0.74      0.73      0.73       907\n",
      "\n"
     ]
    }
   ],
   "source": [
    "from sklearn.metrics import classification_report\n",
    "print(classification_report(y_test, y_pred_2, target_names=\"PN\"))"
   ]
  },
  {
   "cell_type": "code",
   "execution_count": 95,
   "metadata": {},
   "outputs": [
    {
     "data": {
      "text/plain": [
       "0.7265711135611908"
      ]
     },
     "execution_count": 95,
     "metadata": {},
     "output_type": "execute_result"
    }
   ],
   "source": [
    "np.mean(y_pred_2 == y_test)"
   ]
  },
  {
   "cell_type": "code",
   "execution_count": 96,
   "metadata": {},
   "outputs": [],
   "source": [
    "import itertools\n",
    "import numpy as np\n",
    "import matplotlib.pyplot as pltpy\n",
    "\n",
    "def plot_confusion_matrix(cm, classes,\n",
    "                          normalize=False,\n",
    "                          title='Confusion matrix',\n",
    "                          cmap=pltpy.cm.Blues):\n",
    "    \"\"\"\n",
    "    This function prints and plots the confusion matrix.\n",
    "    Normalization can be applied by setting `normalize=True`.\n",
    "    \"\"\"\n",
    "    if normalize:\n",
    "        cm = cm.astype('float') / cm.sum(axis=1)[:, np.newaxis]\n",
    "        print(\"Normalized confusion matrix\")\n",
    "    else:\n",
    "        print('Confusion matrix, without normalization')\n",
    "\n",
    "    print(cm)\n",
    "\n",
    "    pltpy.imshow(cm, interpolation='nearest', cmap=cmap)\n",
    "    pltpy.title(title)\n",
    "    pltpy.colorbar()\n",
    "    tick_marks = np.arange(len(classes))\n",
    "    pltpy.xticks(tick_marks, classes, rotation=45)\n",
    "    pltpy.yticks(tick_marks, classes)\n",
    "\n",
    "    fmt = '.2f' if normalize else 'd'\n",
    "    thresh = cm.max() / 2.\n",
    "    for i, j in itertools.product(range(cm.shape[0]), range(cm.shape[1])):\n",
    "        pltpy.text(j, i, format(cm[i, j], fmt),\n",
    "                 horizontalalignment=\"center\",\n",
    "                 color=\"white\" if cm[i, j] > thresh else \"black\")\n",
    "\n",
    "    pltpy.tight_layout()\n",
    "    pltpy.ylabel('True label')\n",
    "    pltpy.xlabel('Predicted label')"
   ]
  },
  {
   "cell_type": "code",
   "execution_count": 97,
   "metadata": {},
   "outputs": [
    {
     "name": "stdout",
     "output_type": "stream",
     "text": [
      "Confusion matrix, without normalization\n",
      "[[356  82]\n",
      " [166 303]]\n"
     ]
    },
    {
     "data": {
      "image/png": "[encoded data removed]",
      "text/plain": [
       "<matplotlib.figure.Figure at 0x124445b50>"
      ]
     },
     "metadata": {},
     "output_type": "display_data"
    }
   ],
   "source": [
    "from sklearn.metrics import confusion_matrix\n",
    "#Compute confusion matrix\n",
    "cnf_matrix = confusion_matrix(y_test, y_pred_2)\n",
    "np.set_printoptions(precision=2)\n",
    "\n",
    "pltpy.figure()\n",
    "plot_confusion_matrix(cnf_matrix, classes=\"PN\",\n",
    "                      title='Confusion matrix - CNN architecture - 03')"
   ]
  },
  {
   "cell_type": "code",
   "execution_count": null,
   "metadata": {},
   "outputs": [],
   "source": []
  }
 ],
 "metadata": {
  "kernelspec": {
   "display_name": "Python 2",
   "language": "python",
   "name": "python2"
  },
  "language_info": {
   "codemirror_mode": {
    "name": "ipython",
    "version": 2
   },
   "file_extension": ".py",
   "mimetype": "text/x-python",
   "name": "python",
   "nbconvert_exporter": "python",
   "pygments_lexer": "ipython2",
   "version": "2.7.13"
  }
 },
 "nbformat": 4,
 "nbformat_minor": 2
}
