{
 "cells": [
  {
   "cell_type": "markdown",
   "metadata": {},
   "source": [
    "> Importing needed libraries"
   ]
  },
  {
   "cell_type": "code",
   "execution_count": 1,
   "metadata": {},
   "outputs": [],
   "source": [
    "import pandas as pd\n",
    "import matplotlib as plt\n",
    "import string\n",
    "import nltk\n",
    "import re\n",
    "import unicodedata\n",
    "import numpy as np\n",
    "from sklearn.feature_extraction.text import CountVectorizer\n",
    "from sklearn.model_selection import train_test_split\n",
    "from nltk.stem import WordNetLemmatizer"
   ]
  },
  {
   "cell_type": "code",
   "execution_count": 2,
   "metadata": {},
   "outputs": [
    {
     "name": "stdout",
     "output_type": "stream",
     "text": [
      "[nltk_data] Downloading package wordnet to\n",
      "[nltk_data]     /Users/nalindakulathunga/nltk_data...\n",
      "[nltk_data]   Package wordnet is already up-to-date!\n"
     ]
    },
    {
     "data": {
      "text/plain": [
       "True"
      ]
     },
     "execution_count": 2,
     "metadata": {},
     "output_type": "execute_result"
    }
   ],
   "source": [
    "nltk.download('wordnet')"
   ]
  },
  {
   "cell_type": "code",
   "execution_count": 3,
   "metadata": {},
   "outputs": [],
   "source": [
    "#filenames = ['amazon_cells_labelled.txt', 'imdb_labelled.txt', 'yelp_labelled.txt']\n",
    "#with open('combined_reviews.txt', 'w') as outfile:\n",
    "    #for fname in filenames:\n",
    "        #with open(fname) as infile:\n",
    "            #outfile.write(infile.read())\n",
    "            \n",
    "Combined_DF = pd.read_csv(\"imdb_labelled.txt\", sep='\\t', names = [\"Review\", \"Label\"])\n",
    "#Combined_DF = Combined_DF.sample(frac=1).reset_index(drop=True)"
   ]
  },
  {
   "cell_type": "code",
   "execution_count": 4,
   "metadata": {},
   "outputs": [
    {
     "name": "stdout",
     "output_type": "stream",
     "text": [
      "                                              Review  Label\n",
      "0  A very, very, very slow-moving, aimless movie ...      0\n",
      "1  Not sure who was more lost - the flat characte...      0\n",
      "2  Attempting artiness with black & white and cle...      0\n",
      "3       Very little music or anything to speak of.        0\n",
      "4  The best scene in the movie was when Gerardo i...      1\n",
      "5  The rest of the movie lacks art, charm, meanin...      0\n",
      "6                                Wasted two hours.        0\n",
      "7  Saw the movie today and thought it was a good ...      1\n",
      "8                               A bit predictable.        0\n",
      "9  Loved the casting of Jimmy Buffet as the scien...      1\n"
     ]
    }
   ],
   "source": [
    "print Combined_DF.head(10)"
   ]
  },
  {
   "cell_type": "code",
   "execution_count": 5,
   "metadata": {},
   "outputs": [],
   "source": [
    "Combined_Df_RW = Combined_DF.drop('Label', axis=1)\n",
    "Combined_Df_LB = Combined_DF[\"Label\"]"
   ]
  },
  {
   "cell_type": "code",
   "execution_count": 6,
   "metadata": {},
   "outputs": [
    {
     "name": "stdout",
     "output_type": "stream",
     "text": [
      "\n",
      "___________ Reviews _____________\n",
      "\n",
      "                                              Review\n",
      "0  A very, very, very slow-moving, aimless movie ...\n",
      "1  Not sure who was more lost - the flat characte...\n",
      "2  Attempting artiness with black & white and cle...\n",
      "3       Very little music or anything to speak of.  \n",
      "4  The best scene in the movie was when Gerardo i...\n",
      "5  The rest of the movie lacks art, charm, meanin...\n",
      "6                                Wasted two hours.  \n",
      "7  Saw the movie today and thought it was a good ...\n",
      "8                               A bit predictable.  \n",
      "9  Loved the casting of Jimmy Buffet as the scien...\n",
      "\n",
      "___________ Labels _____________\n",
      "\n",
      "0    0\n",
      "1    0\n",
      "2    0\n",
      "3    0\n",
      "4    1\n",
      "5    0\n",
      "6    0\n",
      "7    1\n",
      "8    0\n",
      "9    1\n",
      "Name: Label, dtype: int64\n"
     ]
    }
   ],
   "source": [
    "print \"\\n___________ Reviews _____________\\n\"\n",
    "print Combined_Df_RW.head(10)\n",
    "print \"\\n___________ Labels _____________\\n\"\n",
    "print Combined_Df_LB.head(10)"
   ]
  },
  {
   "cell_type": "markdown",
   "metadata": {},
   "source": [
    "> Spliting data in to training and testing sets:"
   ]
  },
  {
   "cell_type": "code",
   "execution_count": 7,
   "metadata": {},
   "outputs": [],
   "source": [
    "X_train, X_test, y_train, y_test = train_test_split(Combined_Df_RW, Combined_Df_LB, test_size=0.33, random_state=42)"
   ]
  },
  {
   "cell_type": "code",
   "execution_count": 8,
   "metadata": {},
   "outputs": [
    {
     "name": "stdout",
     "output_type": "stream",
     "text": [
      "\n",
      "___________ Training Reviews _____________\n",
      "\n",
      "                                                Review\n",
      "409                               It's just painful!  \n",
      "244  I let my girlfriend talk me into seeing this -...\n",
      "327  From here on the Widmark character turns unint...\n",
      "350  The original Body and Soul (1947) is a masterp...\n",
      "481                The aerial scenes were well-done.  \n",
      "\n",
      "___________ Training Labels _____________\n",
      "\n",
      "409    0\n",
      "244    0\n",
      "327    0\n",
      "350    1\n",
      "481    1\n",
      "Name: Label, dtype: int64\n"
     ]
    }
   ],
   "source": [
    "print \"\\n___________ Training Reviews _____________\\n\"\n",
    "print X_train.head()\n",
    "print \"\\n___________ Training Labels _____________\\n\"\n",
    "print y_train.head()"
   ]
  },
  {
   "cell_type": "code",
   "execution_count": 9,
   "metadata": {},
   "outputs": [
    {
     "name": "stdout",
     "output_type": "stream",
     "text": [
      "\n",
      "___________ Testing Reviews _____________\n",
      "\n",
      "                                                Review\n",
      "580  The result is a film that just don't look righ...\n",
      "356  It's a shame to see good actors like Thomerson...\n",
      "133  But other than that the movie seemed to drag a...\n",
      "250            My 8/10 score is mostly for the plot.  \n",
      "299  I found this move beautiful, enjoyable, and up...\n",
      "\n",
      "___________ Testing Labels _____________\n",
      "\n",
      "580    0\n",
      "356    0\n",
      "133    0\n",
      "250    1\n",
      "299    1\n",
      "Name: Label, dtype: int64\n"
     ]
    }
   ],
   "source": [
    "print \"\\n___________ Testing Reviews _____________\\n\"\n",
    "print X_test.head()\n",
    "print \"\\n___________ Testing Labels _____________\\n\"\n",
    "print y_test.head()"
   ]
  },
  {
   "cell_type": "code",
   "execution_count": 10,
   "metadata": {},
   "outputs": [
    {
     "name": "stdout",
     "output_type": "stream",
     "text": [
      "\n",
      "Training data length:\n",
      "501\n",
      "\n",
      "Testing data length:\n",
      "247\n"
     ]
    }
   ],
   "source": [
    "print \"\\nTraining data length:\"\n",
    "print len(X_train)\n",
    "print \"\\nTesting data length:\"\n",
    "print len(X_test)"
   ]
  },
  {
   "cell_type": "markdown",
   "metadata": {},
   "source": [
    "> Naive Guesser: (assuming all labels to be positive)"
   ]
  },
  {
   "cell_type": "code",
   "execution_count": 11,
   "metadata": {},
   "outputs": [
    {
     "name": "stdout",
     "output_type": "stream",
     "text": [
      "length of the naively assumed list:\n",
      "247\n"
     ]
    }
   ],
   "source": [
    "Y_pred_all_Pos = []\n",
    "\n",
    "for i in range(len(X_test)):\n",
    "    Y_pred_all_Pos.append(1)\n",
    "\n",
    "print \"length of the naively assumed list:\"\n",
    "print len(Y_pred_all_Pos)\n"
   ]
  },
  {
   "cell_type": "code",
   "execution_count": 12,
   "metadata": {},
   "outputs": [
    {
     "name": "stdout",
     "output_type": "stream",
     "text": [
      "Accuracy with Naive guesser:\n",
      "0.4898785425101215\n"
     ]
    }
   ],
   "source": [
    "print \"Accuracy with Naive guesser:\"\n",
    "print np.mean(Y_pred_all_Pos == y_test)"
   ]
  },
  {
   "cell_type": "code",
   "execution_count": 13,
   "metadata": {},
   "outputs": [
    {
     "name": "stdout",
     "output_type": "stream",
     "text": [
      "             precision    recall  f1-score   support\n",
      "\n",
      "          P       0.00      0.00      0.00       126\n",
      "          N       0.49      1.00      0.66       121\n",
      "\n",
      "avg / total       0.24      0.49      0.32       247\n",
      "\n"
     ]
    },
    {
     "name": "stderr",
     "output_type": "stream",
     "text": [
      "/Users/nalindakulathunga/anaconda2/lib/python2.7/site-packages/sklearn/metrics/classification.py:1113: UndefinedMetricWarning: Precision and F-score are ill-defined and being set to 0.0 in labels with no predicted samples.\n",
      "  'precision', 'predicted', average, warn_for)\n"
     ]
    }
   ],
   "source": [
    "from sklearn import metrics\n",
    "print(metrics.classification_report(y_test, Y_pred_all_Pos, target_names=\"PN\"))"
   ]
  },
  {
   "cell_type": "markdown",
   "metadata": {},
   "source": [
    "> Functions prepare words for lemmatizing"
   ]
  },
  {
   "cell_type": "code",
   "execution_count": 14,
   "metadata": {},
   "outputs": [],
   "source": [
    "def strip_accents(text):\n",
    "    \"\"\"\n",
    "    Remove accents from input String.\n",
    "    \"\"\"\n",
    "    try:\n",
    "        text = unicode(text, 'utf-8')\n",
    "    except (TypeError, NameError): # unicode is a default on python 3 \n",
    "        pass\n",
    "    text = unicodedata.normalize('NFD', text)\n",
    "    text = text.encode('ascii', 'ignore')\n",
    "    text = text.decode(\"utf-8\")\n",
    "    return str(text)\n",
    "\n",
    "def text_to_id(text):\n",
    "    \"\"\"\n",
    "    Convert input text to id.\n",
    "    \"\"\"\n",
    "    text = strip_accents(text.lower())\n",
    "    text = re.sub('[ ]+', '_', text)\n",
    "    text = re.sub('[^0-9a-zA-Z_-]', '', text)\n",
    "    return text"
   ]
  },
  {
   "cell_type": "markdown",
   "metadata": {},
   "source": [
    "> Pre-Processing"
   ]
  },
  {
   "cell_type": "code",
   "execution_count": 15,
   "metadata": {},
   "outputs": [],
   "source": [
    "def PreProcess(InList = []):\n",
    "    \"\"\"\n",
    "    This function gets an input list and remove punctuations, convers charactors to lower case and laso look for \n",
    "    any empty strings if available. Then it lemmatize the words. Returns a list with lemmatized sentences. \n",
    "    \"\"\"\n",
    "    X_List_nopunc = [''.join(c for c in s if c not in string.punctuation) for s in InList]\n",
    "    X_List_nopunc_noempty = [s for s in X_List_nopunc if s]\n",
    "    X_List_nopunc_noempty_nocaps = [x.lower() for x in X_List_nopunc_noempty]\n",
    "    \n",
    "    sent_list = []\n",
    "\n",
    "    count = 0\n",
    "    for item in range(len(InList)):\n",
    "        count += 1\n",
    "        word_string = \"\"\n",
    "        for word in X_List_nopunc_noempty_nocaps[item][:].split(): \n",
    "            word_str = text_to_id(word)\n",
    "            new_word = WordNetLemmatizer().lemmatize(word_str, 'v')\n",
    "            word_string += str(new_word) + \" \"\n",
    "        if word_string != \"\":\n",
    "            sent_list.append(word_string)\n",
    "    \n",
    "    return sent_list"
   ]
  },
  {
   "cell_type": "code",
   "execution_count": 16,
   "metadata": {},
   "outputs": [],
   "source": [
    "X_train_List = X_train[\"Review\"].tolist()\n",
    "X_train_List_cleaned = PreProcess(X_train_List)\n",
    "\n",
    "X_test_List = X_test[\"Review\"].tolist()\n",
    "X_test_List_cleaned = PreProcess(X_test_List)"
   ]
  },
  {
   "cell_type": "markdown",
   "metadata": {},
   "source": [
    "> Making a pipeline for the process with Multinomial Naive Bayes classifier:"
   ]
  },
  {
   "cell_type": "code",
   "execution_count": 17,
   "metadata": {},
   "outputs": [],
   "source": [
    "from sklearn.pipeline import Pipeline\n",
    "from sklearn.feature_extraction.text import TfidfTransformer\n",
    "from sklearn.naive_bayes import MultinomialNB\n",
    "text_clf_optimized = Pipeline([('vect_opt', CountVectorizer(stop_words='english')),\n",
    "                     ('tfidf_opt', TfidfTransformer()),\n",
    "                     ('clf_opt', MultinomialNB(alpha=0.6))])"
   ]
  },
  {
   "cell_type": "code",
   "execution_count": 18,
   "metadata": {},
   "outputs": [
    {
     "name": "stderr",
     "output_type": "stream",
     "text": [
      "/Users/nalindakulathunga/anaconda2/lib/python2.7/site-packages/sklearn/feature_extraction/text.py:1059: FutureWarning: Conversion of the second argument of issubdtype from `float` to `np.floating` is deprecated. In future, it will be treated as `np.float64 == np.dtype(float).type`.\n",
      "  if hasattr(X, 'dtype') and np.issubdtype(X.dtype, np.float):\n"
     ]
    },
    {
     "data": {
      "text/plain": [
       "Pipeline(steps=[('vect_opt', CountVectorizer(analyzer=u'word', binary=False, decode_error=u'strict',\n",
       "        dtype=<type 'numpy.int64'>, encoding=u'utf-8', input=u'content',\n",
       "        lowercase=True, max_df=1.0, max_features=None, min_df=1,\n",
       "        ngram_range=(1, 1), preprocessor=None, stop_words='english',\n",
       " ...e,\n",
       "         use_idf=True)), ('clf_opt', MultinomialNB(alpha=0.6, class_prior=None, fit_prior=True))])"
      ]
     },
     "execution_count": 18,
     "metadata": {},
     "output_type": "execute_result"
    }
   ],
   "source": [
    "text_clf_optimized.fit(X_train_List_cleaned, y_train) "
   ]
  },
  {
   "cell_type": "code",
   "execution_count": 19,
   "metadata": {},
   "outputs": [
    {
     "name": "stdout",
     "output_type": "stream",
     "text": [
      "Accuracy :\n",
      "0.7408906882591093\n"
     ]
    }
   ],
   "source": [
    "predicted_opt = text_clf_optimized.predict(X_test_List_cleaned)\n",
    "print \"Accuracy :\"\n",
    "print np.mean(predicted_opt == y_test)"
   ]
  },
  {
   "cell_type": "code",
   "execution_count": 20,
   "metadata": {},
   "outputs": [
    {
     "name": "stdout",
     "output_type": "stream",
     "text": [
      "             precision    recall  f1-score   support\n",
      "\n",
      "          P       0.79      0.67      0.72       126\n",
      "          N       0.70      0.82      0.76       121\n",
      "\n",
      "avg / total       0.75      0.74      0.74       247\n",
      "\n"
     ]
    }
   ],
   "source": [
    "print(metrics.classification_report(y_test, predicted_opt, target_names=\"PN\"))"
   ]
  },
  {
   "cell_type": "markdown",
   "metadata": {},
   "source": [
    "> Confusion metrix plotting:"
   ]
  },
  {
   "cell_type": "code",
   "execution_count": 21,
   "metadata": {},
   "outputs": [],
   "source": [
    "import itertools\n",
    "import numpy as np\n",
    "import matplotlib.pyplot as pltpy\n",
    "\n",
    "def plot_confusion_matrix(cm, classes,\n",
    "                          normalize=False,\n",
    "                          title='Confusion matrix',\n",
    "                          cmap=pltpy.cm.Blues):\n",
    "    \"\"\"\n",
    "    This function prints and plots the confusion matrix.\n",
    "    Normalization can be applied by setting `normalize=True`.\n",
    "    \"\"\"\n",
    "    if normalize:\n",
    "        cm = cm.astype('float') / cm.sum(axis=1)[:, np.newaxis]\n",
    "        print(\"Normalized confusion matrix\")\n",
    "    else:\n",
    "        print('Confusion matrix, without normalization')\n",
    "\n",
    "    print(cm)\n",
    "\n",
    "    pltpy.imshow(cm, interpolation='nearest', cmap=cmap)\n",
    "    pltpy.title(title)\n",
    "    pltpy.colorbar()\n",
    "    tick_marks = np.arange(len(classes))\n",
    "    pltpy.xticks(tick_marks, classes, rotation=45)\n",
    "    pltpy.yticks(tick_marks, classes)\n",
    "\n",
    "    fmt = '.2f' if normalize else 'd'\n",
    "    thresh = cm.max() / 2.\n",
    "    for i, j in itertools.product(range(cm.shape[0]), range(cm.shape[1])):\n",
    "        pltpy.text(j, i, format(cm[i, j], fmt),\n",
    "                 horizontalalignment=\"center\",\n",
    "                 color=\"white\" if cm[i, j] > thresh else \"black\")\n",
    "\n",
    "    pltpy.tight_layout()\n",
    "    pltpy.ylabel('True label')\n",
    "    pltpy.xlabel('Predicted label')"
   ]
  },
  {
   "cell_type": "markdown",
   "metadata": {},
   "source": [
    "> Confusion matrix for MultinomialNB:"
   ]
  },
  {
   "cell_type": "code",
   "execution_count": 23,
   "metadata": {},
   "outputs": [
    {
     "name": "stdout",
     "output_type": "stream",
     "text": [
      "Confusion matrix, without normalization\n",
      "[[84 42]\n",
      " [22 99]]\n"
     ]
    },
    {
     "data": {
      "image/png": "[encoded data removed]",
      "text/plain": [
       "<matplotlib.figure.Figure at 0x111080350>"
      ]
     },
     "metadata": {},
     "output_type": "display_data"
    }
   ],
   "source": [
    "from sklearn.metrics import confusion_matrix\n",
    "\n",
    "# Compute confusion matrix\n",
    "cnf_matrix_NB = confusion_matrix(y_test, predicted_opt)\n",
    "np.set_printoptions(precision=2)\n",
    "\n",
    "# Plot non-normalized confusion matrix\n",
    "pltpy.figure()\n",
    "plot_confusion_matrix(cnf_matrix_NB, classes=\"NP\",\n",
    "                      title='Confusion matrix - Trained and tested on IMDb')\n",
    "pltpy.show()"
   ]
  },
  {
   "cell_type": "code",
   "execution_count": null,
   "metadata": {},
   "outputs": [],
   "source": []
  }
 ],
 "metadata": {
  "kernelspec": {
   "display_name": "Python 2",
   "language": "python",
   "name": "python2"
  },
  "language_info": {
   "codemirror_mode": {
    "name": "ipython",
    "version": 2
   },
   "file_extension": ".py",
   "mimetype": "text/x-python",
   "name": "python",
   "nbconvert_exporter": "python",
   "pygments_lexer": "ipython2",
   "version": "2.7.13"
  }
 },
 "nbformat": 4,
 "nbformat_minor": 2
}
