{
 "cells": [
  {
   "cell_type": "markdown",
   "metadata": {},
   "source": [
    "# This notebook shows the work done in order to obtain the accuracy score and the confusion matrix using Naive Guesser, Multinomial Naive Bayes and SGDClassifier models. Also, pre-processing and vectorization is done before fit in to a model. Steps are breifely explained. Combined data set from yelp, amazon and imdb is used to find the best performing model."
   ]
  },
  {
   "cell_type": "markdown",
   "metadata": {},
   "source": [
    "> Importing needed libraries"
   ]
  },
  {
   "cell_type": "code",
   "execution_count": 1,
   "metadata": {},
   "outputs": [],
   "source": [
    "import pandas as pd\n",
    "import matplotlib as plt\n",
    "import string\n",
    "import nltk\n",
    "import re\n",
    "import unicodedata\n",
    "import numpy as np\n",
    "from sklearn.feature_extraction.text import CountVectorizer\n",
    "from sklearn.model_selection import train_test_split\n",
    "from nltk.stem import WordNetLemmatizer"
   ]
  },
  {
   "cell_type": "code",
   "execution_count": 2,
   "metadata": {},
   "outputs": [
    {
     "name": "stdout",
     "output_type": "stream",
     "text": [
      "[nltk_data] Downloading package wordnet to\n",
      "[nltk_data]     /Users/nalindakulathunga/nltk_data...\n",
      "[nltk_data]   Package wordnet is already up-to-date!\n"
     ]
    },
    {
     "data": {
      "text/plain": [
       "True"
      ]
     },
     "execution_count": 2,
     "metadata": {},
     "output_type": "execute_result"
    }
   ],
   "source": [
    "nltk.download('wordnet')"
   ]
  },
  {
   "cell_type": "code",
   "execution_count": 3,
   "metadata": {},
   "outputs": [],
   "source": [
    "filenames = ['amazon_cells_labelled.txt', 'imdb_labelled.txt', 'yelp_labelled.txt']\n",
    "with open('combined_reviews.txt', 'w') as outfile:\n",
    "    for fname in filenames:\n",
    "        with open(fname) as infile:\n",
    "            outfile.write(infile.read())\n",
    "            \n",
    "Combined_DF = pd.read_csv(\"combined_reviews.txt\", sep='\\t', names = [\"Review\", \"Label\"])\n",
    "Combined_DF = Combined_DF.sample(frac=1).reset_index(drop=True)"
   ]
  },
  {
   "cell_type": "code",
   "execution_count": 4,
   "metadata": {},
   "outputs": [
    {
     "name": "stdout",
     "output_type": "stream",
     "text": [
      "                                              Review  Label\n",
      "0    Obviously there is a problem with the adhesive.      0\n",
      "1  The only good thing was our waiter, he was ver...      1\n",
      "2              Just spicy enough.. Perfect actually.      1\n",
      "3                  Thank you for such great service.      1\n",
      "4             The shipping time was also very quick!      1\n",
      "5                                Doesn't do the job.      0\n",
      "6  The phone crashed completely and now I have to...      0\n",
      "7  Shrimp- When I unwrapped it (I live only 1/2 a...      0\n",
      "8  This is a very \"right on case\" movie that deli...      1\n",
      "9                                 Waste of 13 bucks.      0\n"
     ]
    }
   ],
   "source": [
    "print Combined_DF.head(10)"
   ]
  },
  {
   "cell_type": "code",
   "execution_count": 5,
   "metadata": {},
   "outputs": [],
   "source": [
    "Combined_Df_RW = Combined_DF.drop('Label', axis=1)\n",
    "Combined_Df_LB = Combined_DF[\"Label\"]"
   ]
  },
  {
   "cell_type": "code",
   "execution_count": 6,
   "metadata": {},
   "outputs": [
    {
     "name": "stdout",
     "output_type": "stream",
     "text": [
      "\n",
      "___________ Reviews _____________\n",
      "\n",
      "                                              Review\n",
      "0    Obviously there is a problem with the adhesive.\n",
      "1  The only good thing was our waiter, he was ver...\n",
      "2              Just spicy enough.. Perfect actually.\n",
      "3                  Thank you for such great service.\n",
      "4             The shipping time was also very quick!\n",
      "5                                Doesn't do the job.\n",
      "6  The phone crashed completely and now I have to...\n",
      "7  Shrimp- When I unwrapped it (I live only 1/2 a...\n",
      "8  This is a very \"right on case\" movie that deli...\n",
      "9                                 Waste of 13 bucks.\n",
      "\n",
      "___________ Labels _____________\n",
      "\n",
      "0    0\n",
      "1    1\n",
      "2    1\n",
      "3    1\n",
      "4    1\n",
      "5    0\n",
      "6    0\n",
      "7    0\n",
      "8    1\n",
      "9    0\n",
      "Name: Label, dtype: int64\n"
     ]
    }
   ],
   "source": [
    "print \"\\n___________ Reviews _____________\\n\"\n",
    "print Combined_Df_RW.head(10)\n",
    "print \"\\n___________ Labels _____________\\n\"\n",
    "print Combined_Df_LB.head(10)"
   ]
  },
  {
   "cell_type": "markdown",
   "metadata": {},
   "source": [
    "> Spliting data in to training and testing sets:"
   ]
  },
  {
   "cell_type": "code",
   "execution_count": 7,
   "metadata": {},
   "outputs": [],
   "source": [
    "X_train, X_test, y_train, y_test = train_test_split(Combined_Df_RW, Combined_Df_LB, test_size=0.33, random_state=42)"
   ]
  },
  {
   "cell_type": "code",
   "execution_count": 8,
   "metadata": {},
   "outputs": [
    {
     "name": "stdout",
     "output_type": "stream",
     "text": [
      "\n",
      "___________ Training Reviews _____________\n",
      "\n",
      "                                                 Review\n",
      "1094  In my house I was getting dropped coverage ups...\n",
      "286   I have been in more than a few bars in Vegas, ...\n",
      "1766              If you're not familiar, check it out.\n",
      "300   sucked, most of the stuff does not work with m...\n",
      "1456                               Good transmit audio.\n",
      "\n",
      "___________ Training Labels _____________\n",
      "\n",
      "1094    0\n",
      "286     0\n",
      "1766    1\n",
      "300     0\n",
      "1456    1\n",
      "Name: Label, dtype: int64\n"
     ]
    }
   ],
   "source": [
    "print \"\\n___________ Training Reviews _____________\\n\"\n",
    "print X_train.head()\n",
    "print \"\\n___________ Training Labels _____________\\n\"\n",
    "print y_train.head()"
   ]
  },
  {
   "cell_type": "code",
   "execution_count": 9,
   "metadata": {},
   "outputs": [
    {
     "name": "stdout",
     "output_type": "stream",
     "text": [
      "\n",
      "___________ Testing Reviews _____________\n",
      "\n",
      "                                                 Review\n",
      "2516                                   So Far So Good!.\n",
      "2642  It is an hour and half waste of time, followin...\n",
      "1359       It is a very well acted and done TV Movie.  \n",
      "1702                                    Used and dirty.\n",
      "2660  We had so much to say about the place before w...\n",
      "\n",
      "___________ Testing Labels _____________\n",
      "\n",
      "2516    1\n",
      "2642    0\n",
      "1359    1\n",
      "1702    0\n",
      "2660    0\n",
      "Name: Label, dtype: int64\n"
     ]
    }
   ],
   "source": [
    "print \"\\n___________ Testing Reviews _____________\\n\"\n",
    "print X_test.head()\n",
    "print \"\\n___________ Testing Labels _____________\\n\"\n",
    "print y_test.head()"
   ]
  },
  {
   "cell_type": "code",
   "execution_count": 10,
   "metadata": {},
   "outputs": [
    {
     "name": "stdout",
     "output_type": "stream",
     "text": [
      "\n",
      "Training data length:\n",
      "1841\n",
      "\n",
      "Testing data length:\n",
      "907\n"
     ]
    }
   ],
   "source": [
    "print \"\\nTraining data length:\"\n",
    "print len(X_train)\n",
    "print \"\\nTesting data length:\"\n",
    "print len(X_test)"
   ]
  },
  {
   "cell_type": "markdown",
   "metadata": {},
   "source": [
    "> Naive Guesser: (assuming all labels to be positive)"
   ]
  },
  {
   "cell_type": "code",
   "execution_count": 68,
   "metadata": {},
   "outputs": [
    {
     "name": "stdout",
     "output_type": "stream",
     "text": [
      "length of the naively assumed list:\n",
      "907\n"
     ]
    }
   ],
   "source": [
    "Y_pred_all_Pos = []\n",
    "\n",
    "for i in range(len(X_test)):\n",
    "    Y_pred_all_Pos.append(1)\n",
    "\n",
    "print \"length of the naively assumed list:\"\n",
    "print len(Y_pred_all_Pos)\n"
   ]
  },
  {
   "cell_type": "code",
   "execution_count": 76,
   "metadata": {},
   "outputs": [
    {
     "name": "stdout",
     "output_type": "stream",
     "text": [
      "Accuracy with Naive guesser:\n",
      "0.4994487320837927\n"
     ]
    }
   ],
   "source": [
    "print \"Accuracy with Naive guesser:\"\n",
    "print np.mean(Y_pred_all_Pos == y_test)"
   ]
  },
  {
   "cell_type": "code",
   "execution_count": 77,
   "metadata": {},
   "outputs": [
    {
     "name": "stdout",
     "output_type": "stream",
     "text": [
      "             precision    recall  f1-score   support\n",
      "\n",
      "          P       0.00      0.00      0.00       454\n",
      "          N       0.50      1.00      0.67       453\n",
      "\n",
      "avg / total       0.25      0.50      0.33       907\n",
      "\n"
     ]
    }
   ],
   "source": [
    "from sklearn import metrics\n",
    "print(metrics.classification_report(y_test, Y_pred_all_Pos, target_names=\"PN\"))"
   ]
  },
  {
   "cell_type": "markdown",
   "metadata": {},
   "source": [
    "> Functions prepare words for lemmatizing"
   ]
  },
  {
   "cell_type": "code",
   "execution_count": 11,
   "metadata": {},
   "outputs": [],
   "source": [
    "def strip_accents(text):\n",
    "    \"\"\"\n",
    "    Remove accents from input String.\n",
    "    \"\"\"\n",
    "    try:\n",
    "        text = unicode(text, 'utf-8')\n",
    "    except (TypeError, NameError): # unicode is a default on python 3 \n",
    "        pass\n",
    "    text = unicodedata.normalize('NFD', text)\n",
    "    text = text.encode('ascii', 'ignore')\n",
    "    text = text.decode(\"utf-8\")\n",
    "    return str(text)\n",
    "\n",
    "def text_to_id(text):\n",
    "    \"\"\"\n",
    "    Convert input text to id.\n",
    "    \"\"\"\n",
    "    text = strip_accents(text.lower())\n",
    "    text = re.sub('[ ]+', '_', text)\n",
    "    text = re.sub('[^0-9a-zA-Z_-]', '', text)\n",
    "    return text"
   ]
  },
  {
   "cell_type": "markdown",
   "metadata": {},
   "source": [
    "> Pre-Processing"
   ]
  },
  {
   "cell_type": "code",
   "execution_count": 12,
   "metadata": {},
   "outputs": [],
   "source": [
    "def PreProcess(InList = []):\n",
    "    \"\"\"\n",
    "    This function gets an input list and remove punctuations, convers charactors to lower case and laso look for \n",
    "    any empty strings if available. Then it lemmatize the words. Returns a list with lemmatized sentences. \n",
    "    \"\"\"\n",
    "    X_List_nopunc = [''.join(c for c in s if c not in string.punctuation) for s in InList]\n",
    "    X_List_nopunc_noempty = [s for s in X_List_nopunc if s]\n",
    "    X_List_nopunc_noempty_nocaps = [x.lower() for x in X_List_nopunc_noempty]\n",
    "    \n",
    "    sent_list = []\n",
    "\n",
    "    count = 0\n",
    "    for item in range(len(InList)):\n",
    "        count += 1\n",
    "        word_string = \"\"\n",
    "        for word in X_List_nopunc_noempty_nocaps[item][:].split(): \n",
    "            word_str = text_to_id(word)\n",
    "            new_word = WordNetLemmatizer().lemmatize(word_str, 'v')\n",
    "            word_string += str(new_word) + \" \"\n",
    "        if word_string != \"\":\n",
    "            sent_list.append(word_string)\n",
    "    \n",
    "    return sent_list"
   ]
  },
  {
   "cell_type": "code",
   "execution_count": 13,
   "metadata": {},
   "outputs": [],
   "source": [
    "X_train_List = X_train[\"Review\"].tolist()\n",
    "X_train_List_cleaned = PreProcess(X_train_List)\n",
    "\n",
    "X_test_List = X_test[\"Review\"].tolist()\n",
    "X_test_List_cleaned = PreProcess(X_test_List)"
   ]
  },
  {
   "cell_type": "markdown",
   "metadata": {},
   "source": [
    "> Making a pipeline for the process with Multinomial Naive Bayes classifier:"
   ]
  },
  {
   "cell_type": "code",
   "execution_count": 51,
   "metadata": {},
   "outputs": [],
   "source": [
    "from sklearn.pipeline import Pipeline\n",
    "from sklearn.feature_extraction.text import TfidfTransformer\n",
    "from sklearn.naive_bayes import MultinomialNB\n",
    "text_clf = Pipeline([('vect', CountVectorizer(stop_words='english')),\n",
    "                     ('tfidf', TfidfTransformer()),\n",
    "                     ('clf', MultinomialNB())])"
   ]
  },
  {
   "cell_type": "code",
   "execution_count": 52,
   "metadata": {},
   "outputs": [
    {
     "data": {
      "text/plain": [
       "Pipeline(steps=[('vect', CountVectorizer(analyzer=u'word', binary=False, decode_error=u'strict',\n",
       "        dtype=<type 'numpy.int64'>, encoding=u'utf-8', input=u'content',\n",
       "        lowercase=True, max_df=1.0, max_features=None, min_df=1,\n",
       "        ngram_range=(1, 1), preprocessor=None, stop_words='english',\n",
       "     ...False,\n",
       "         use_idf=True)), ('clf', MultinomialNB(alpha=1.0, class_prior=None, fit_prior=True))])"
      ]
     },
     "execution_count": 52,
     "metadata": {},
     "output_type": "execute_result"
    }
   ],
   "source": [
    "text_clf.fit(X_train_List_cleaned, y_train) "
   ]
  },
  {
   "cell_type": "code",
   "execution_count": 53,
   "metadata": {},
   "outputs": [
    {
     "name": "stdout",
     "output_type": "stream",
     "text": [
      "Accuracy with MultinomialNB:\n",
      "0.7960308710033076\n"
     ]
    }
   ],
   "source": [
    "predicted = text_clf.predict(X_test_List_cleaned)\n",
    "print \"Accuracy with MultinomialNB:\"\n",
    "print np.mean(predicted == y_test)"
   ]
  },
  {
   "cell_type": "code",
   "execution_count": 54,
   "metadata": {},
   "outputs": [
    {
     "name": "stdout",
     "output_type": "stream",
     "text": [
      "             precision    recall  f1-score   support\n",
      "\n",
      "          P       0.83      0.74      0.78       454\n",
      "          N       0.77      0.85      0.81       453\n",
      "\n",
      "avg / total       0.80      0.80      0.80       907\n",
      "\n"
     ]
    }
   ],
   "source": [
    "print(metrics.classification_report(y_test, predicted, target_names=\"PN\"))"
   ]
  },
  {
   "cell_type": "markdown",
   "metadata": {},
   "source": [
    "> Making a pipeline for the process with SGD Classifier:"
   ]
  },
  {
   "cell_type": "code",
   "execution_count": 55,
   "metadata": {},
   "outputs": [],
   "source": [
    "from sklearn.linear_model import SGDClassifier\n",
    "text_clf_2 = Pipeline([('vect_2', CountVectorizer(stop_words='english', ngram_range = (1, 1))),\n",
    "                       ('tfidf_2', TfidfTransformer(use_idf=False)),\n",
    "                       ('clf_2', SGDClassifier(loss='log', penalty='l2',\n",
    "                                            alpha=1e-3, random_state=42))])"
   ]
  },
  {
   "cell_type": "code",
   "execution_count": 56,
   "metadata": {},
   "outputs": [
    {
     "name": "stdout",
     "output_type": "stream",
     "text": [
      "Accuracy with SGD Classifier:\n",
      "0.7783902976846747\n"
     ]
    }
   ],
   "source": [
    "text_clf_2.fit(X_train_List_cleaned, y_train)\n",
    "predicted_2 = text_clf_2.predict(X_test_List_cleaned)\n",
    "print \"Accuracy with SGD Classifier:\"\n",
    "print np.mean(predicted_2 == y_test)"
   ]
  },
  {
   "cell_type": "code",
   "execution_count": 57,
   "metadata": {},
   "outputs": [
    {
     "name": "stdout",
     "output_type": "stream",
     "text": [
      "             precision    recall  f1-score   support\n",
      "\n",
      "          P       0.76      0.81      0.79       454\n",
      "          N       0.80      0.74      0.77       453\n",
      "\n",
      "avg / total       0.78      0.78      0.78       907\n",
      "\n"
     ]
    }
   ],
   "source": [
    "print(metrics.classification_report(y_test, predicted_2, target_names=\"PN\"))"
   ]
  },
  {
   "cell_type": "markdown",
   "metadata": {},
   "source": [
    "> Using GridSearchCV to find best parameters for SGDClassifier:"
   ]
  },
  {
   "cell_type": "code",
   "execution_count": 58,
   "metadata": {},
   "outputs": [],
   "source": [
    "from sklearn.model_selection import GridSearchCV\n",
    "parameters = {'vect_2__ngram_range': [(1, 1), (1, 2)],\n",
    "              'tfidf_2__use_idf': (True, False),\n",
    "              'clf_2__alpha': (1e-2, 1e-3, 1e-4),\n",
    "              'clf_2__loss': ('hinge', 'log')}"
   ]
  },
  {
   "cell_type": "code",
   "execution_count": 59,
   "metadata": {},
   "outputs": [],
   "source": [
    "gs_clf = GridSearchCV(text_clf_2, parameters, n_jobs=-1)"
   ]
  },
  {
   "cell_type": "code",
   "execution_count": 60,
   "metadata": {},
   "outputs": [],
   "source": [
    "y_train_List = y_train.tolist()\n",
    "gs_clf = gs_clf.fit(X_train_List_cleaned[:500], y_train[:500])"
   ]
  },
  {
   "cell_type": "code",
   "execution_count": 61,
   "metadata": {},
   "outputs": [
    {
     "name": "stdout",
     "output_type": "stream",
     "text": [
      "clf_2__alpha: 0.001\n",
      "clf_2__loss: 'log'\n",
      "tfidf_2__use_idf: False\n",
      "vect_2__ngram_range: (1, 1)\n"
     ]
    }
   ],
   "source": [
    "for param_name in sorted(parameters.keys()):\n",
    "    print(\"%s: %r\" % (param_name, gs_clf.best_params_[param_name]))"
   ]
  },
  {
   "cell_type": "markdown",
   "metadata": {},
   "source": [
    "> Confusion metrix plotting:"
   ]
  },
  {
   "cell_type": "code",
   "execution_count": 62,
   "metadata": {},
   "outputs": [],
   "source": [
    "import itertools\n",
    "import numpy as np\n",
    "import matplotlib.pyplot as pltpy\n",
    "\n",
    "def plot_confusion_matrix(cm, classes,\n",
    "                          normalize=False,\n",
    "                          title='Confusion matrix',\n",
    "                          cmap=pltpy.cm.Blues):\n",
    "    \"\"\"\n",
    "    This function prints and plots the confusion matrix.\n",
    "    Normalization can be applied by setting `normalize=True`.\n",
    "    \"\"\"\n",
    "    if normalize:\n",
    "        cm = cm.astype('float') / cm.sum(axis=1)[:, np.newaxis]\n",
    "        print(\"Normalized confusion matrix\")\n",
    "    else:\n",
    "        print('Confusion matrix, without normalization')\n",
    "\n",
    "    print(cm)\n",
    "\n",
    "    pltpy.imshow(cm, interpolation='nearest', cmap=cmap)\n",
    "    pltpy.title(title)\n",
    "    pltpy.colorbar()\n",
    "    tick_marks = np.arange(len(classes))\n",
    "    pltpy.xticks(tick_marks, classes, rotation=45)\n",
    "    pltpy.yticks(tick_marks, classes)\n",
    "\n",
    "    fmt = '.2f' if normalize else 'd'\n",
    "    thresh = cm.max() / 2.\n",
    "    for i, j in itertools.product(range(cm.shape[0]), range(cm.shape[1])):\n",
    "        pltpy.text(j, i, format(cm[i, j], fmt),\n",
    "                 horizontalalignment=\"center\",\n",
    "                 color=\"white\" if cm[i, j] > thresh else \"black\")\n",
    "\n",
    "    pltpy.tight_layout()\n",
    "    pltpy.ylabel('True label')\n",
    "    pltpy.xlabel('Predicted label')"
   ]
  },
  {
   "cell_type": "markdown",
   "metadata": {},
   "source": [
    "> Confusion matrix with Naive Guesser:"
   ]
  },
  {
   "cell_type": "code",
   "execution_count": 71,
   "metadata": {},
   "outputs": [
    {
     "name": "stdout",
     "output_type": "stream",
     "text": [
      "Confusion matrix, without normalization\n",
      "[[  0 454]\n",
      " [  0 453]]\n"
     ]
    },
    {
     "data": {
      "image/png": "[encoded data removed]",
      "text/plain": [
       "<matplotlib.figure.Figure at 0x11a2e7210>"
      ]
     },
     "metadata": {},
     "output_type": "display_data"
    }
   ],
   "source": [
    "from sklearn.metrics import confusion_matrix\n",
    "# Compute confusion matrix\n",
    "cnf_matrix_NG = confusion_matrix(y_test, Y_pred_all_Pos)\n",
    "np.set_printoptions(precision=2)\n",
    "\n",
    "# Plot non-normalized confusion matrix\n",
    "pltpy.figure()\n",
    "plot_confusion_matrix(cnf_matrix_NG, classes=\"NP\",\n",
    "                      title='Confusion matrix - Naive Guesser(all positive)')\n",
    "pltpy.show()"
   ]
  },
  {
   "cell_type": "markdown",
   "metadata": {},
   "source": [
    "> Confusion matrix for MultinomialNB:"
   ]
  },
  {
   "cell_type": "code",
   "execution_count": 72,
   "metadata": {},
   "outputs": [
    {
     "name": "stdout",
     "output_type": "stream",
     "text": [
      "Confusion matrix, without normalization\n",
      "[[336 118]\n",
      " [ 67 386]]\n"
     ]
    },
    {
     "data": {
      "image/png": "[encoded data removed]",
      "text/plain": [
       "<matplotlib.figure.Figure at 0x11a2e76d0>"
      ]
     },
     "metadata": {},
     "output_type": "display_data"
    }
   ],
   "source": [
    "# Compute confusion matrix\n",
    "cnf_matrix_NB = confusion_matrix(y_test, predicted)\n",
    "np.set_printoptions(precision=2)\n",
    "\n",
    "# Plot non-normalized confusion matrix\n",
    "pltpy.figure()\n",
    "plot_confusion_matrix(cnf_matrix_NB, classes=\"NP\",\n",
    "                      title='Confusion matrix - MultinomialNB')\n",
    "pltpy.show()"
   ]
  },
  {
   "cell_type": "markdown",
   "metadata": {},
   "source": [
    "> Confusion metrix for SGD classifier:"
   ]
  },
  {
   "cell_type": "code",
   "execution_count": 73,
   "metadata": {},
   "outputs": [
    {
     "name": "stdout",
     "output_type": "stream",
     "text": [
      "Confusion matrix, without normalization\n",
      "[[369  85]\n",
      " [116 337]]\n"
     ]
    },
    {
     "data": {
      "image/png": "[encoded data removed]",
      "text/plain": [
       "<matplotlib.figure.Figure at 0x11a070f50>"
      ]
     },
     "metadata": {},
     "output_type": "display_data"
    }
   ],
   "source": [
    "# Compute confusion matrix\n",
    "cnf_matrix_SGD = confusion_matrix(y_test, predicted_2)\n",
    "np.set_printoptions(precision=2)\n",
    "\n",
    "# Plot non-normalized confusion matrix\n",
    "pltpy.figure()\n",
    "plot_confusion_matrix(cnf_matrix_SGD, classes=\"NP\",\n",
    "                      title='Confusion matrix - SGDClassifier')\n",
    "pltpy.show()"
   ]
  },
  {
   "cell_type": "code",
   "execution_count": null,
   "metadata": {},
   "outputs": [],
   "source": []
  }
 ],
 "metadata": {
  "kernelspec": {
   "display_name": "Python 2",
   "language": "python",
   "name": "python2"
  },
  "language_info": {
   "codemirror_mode": {
    "name": "ipython",
    "version": 2
   },
   "file_extension": ".py",
   "mimetype": "text/x-python",
   "name": "python",
   "nbconvert_exporter": "python",
   "pygments_lexer": "ipython2",
   "version": "2.7.13"
  }
 },
 "nbformat": 4,
 "nbformat_minor": 2
}
