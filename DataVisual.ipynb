{
 "cells": [
  {
   "cell_type": "markdown",
   "metadata": {},
   "source": [
    "# This notebook includes the visualization of the data set. All three data sets from yelp.com, amazon.com and imdb.com are combined here and most of the functions are breifly explained."
   ]
  },
  {
   "cell_type": "markdown",
   "metadata": {},
   "source": [
    "> Import the nessasarry libraries:"
   ]
  },
  {
   "cell_type": "code",
   "execution_count": 14,
   "metadata": {},
   "outputs": [],
   "source": [
    "import pandas as pd\n",
    "import matplotlib as plt\n",
    "import string\n",
    "import nltk\n",
    "import re\n",
    "import unicodedata"
   ]
  },
  {
   "cell_type": "markdown",
   "metadata": {},
   "source": [
    "> Download 'wordnet' for stop-words vocabulary"
   ]
  },
  {
   "cell_type": "code",
   "execution_count": 15,
   "metadata": {},
   "outputs": [
    {
     "name": "stdout",
     "output_type": "stream",
     "text": [
      "[nltk_data] Downloading package wordnet to\n",
      "[nltk_data]     /Users/nalindakulathunga/nltk_data...\n",
      "[nltk_data]   Package wordnet is already up-to-date!\n"
     ]
    },
    {
     "data": {
      "text/plain": [
       "True"
      ]
     },
     "execution_count": 15,
     "metadata": {},
     "output_type": "execute_result"
    }
   ],
   "source": [
    "nltk.download('wordnet')"
   ]
  },
  {
   "cell_type": "markdown",
   "metadata": {},
   "source": [
    "> Following functions are for the removal of accents and pre-process text befor lamitizing."
   ]
  },
  {
   "cell_type": "code",
   "execution_count": 16,
   "metadata": {},
   "outputs": [],
   "source": [
    "def strip_accents(text):\n",
    "    \"\"\"\n",
    "    Remove accents from input String.\n",
    "    \"\"\"\n",
    "    try:\n",
    "        text = unicode(text, 'utf-8')\n",
    "    except (TypeError, NameError): \n",
    "        pass\n",
    "    text = unicodedata.normalize('NFD', text)\n",
    "    text = text.encode('ascii', 'ignore')\n",
    "    text = text.decode(\"utf-8\")\n",
    "    return str(text)\n",
    "\n",
    "def text_to_id(text):\n",
    "    \"\"\"\n",
    "    Convert input text to id.\n",
    "    \"\"\"\n",
    "    text = strip_accents(text.lower())\n",
    "    text = re.sub('[ ]+', '_', text)\n",
    "    text = re.sub('[^0-9a-zA-Z_-]', '', text)\n",
    "    return text"
   ]
  },
  {
   "cell_type": "markdown",
   "metadata": {},
   "source": [
    "> Combinnig three data sets, 'amazon_cells_labelled.txt', 'imdb_labelled.txt', 'yelp_labelled.txt'"
   ]
  },
  {
   "cell_type": "code",
   "execution_count": 17,
   "metadata": {},
   "outputs": [],
   "source": [
    "filenames = ['amazon_cells_labelled.txt', 'imdb_labelled.txt', 'yelp_labelled.txt']\n",
    "with open('combined_reviews.txt', 'w') as outfile:\n",
    "    for fname in filenames:\n",
    "        with open(fname) as infile:\n",
    "            outfile.write(infile.read())"
   ]
  },
  {
   "cell_type": "code",
   "execution_count": 18,
   "metadata": {},
   "outputs": [],
   "source": [
    "Combined_DF = pd.read_csv(\"combined_reviews.txt\", sep='\\t', names = [\"Review\", \"Label\"])"
   ]
  },
  {
   "cell_type": "code",
   "execution_count": 19,
   "metadata": {},
   "outputs": [
    {
     "data": {
      "text/html": [
       "<div>\n",
       "<style scoped>\n",
       "    .dataframe tbody tr th:only-of-type {\n",
       "        vertical-align: middle;\n",
       "    }\n",
       "\n",
       "    .dataframe tbody tr th {\n",
       "        vertical-align: top;\n",
       "    }\n",
       "\n",
       "    .dataframe thead th {\n",
       "        text-align: right;\n",
       "    }\n",
       "</style>\n",
       "<table border=\"1\" class=\"dataframe\">\n",
       "  <thead>\n",
       "    <tr style=\"text-align: right;\">\n",
       "      <th></th>\n",
       "      <th>Review</th>\n",
       "      <th>Label</th>\n",
       "    </tr>\n",
       "  </thead>\n",
       "  <tbody>\n",
       "    <tr>\n",
       "      <th>0</th>\n",
       "      <td>So there is no way for me to plug it in here i...</td>\n",
       "      <td>0</td>\n",
       "    </tr>\n",
       "    <tr>\n",
       "      <th>1</th>\n",
       "      <td>Good case, Excellent value.</td>\n",
       "      <td>1</td>\n",
       "    </tr>\n",
       "    <tr>\n",
       "      <th>2</th>\n",
       "      <td>Great for the jawbone.</td>\n",
       "      <td>1</td>\n",
       "    </tr>\n",
       "    <tr>\n",
       "      <th>3</th>\n",
       "      <td>Tied to charger for conversations lasting more...</td>\n",
       "      <td>0</td>\n",
       "    </tr>\n",
       "    <tr>\n",
       "      <th>4</th>\n",
       "      <td>The mic is great.</td>\n",
       "      <td>1</td>\n",
       "    </tr>\n",
       "    <tr>\n",
       "      <th>5</th>\n",
       "      <td>I have to jiggle the plug to get it to line up...</td>\n",
       "      <td>0</td>\n",
       "    </tr>\n",
       "    <tr>\n",
       "      <th>6</th>\n",
       "      <td>If you have several dozen or several hundred c...</td>\n",
       "      <td>0</td>\n",
       "    </tr>\n",
       "    <tr>\n",
       "      <th>7</th>\n",
       "      <td>If you are Razr owner...you must have this!</td>\n",
       "      <td>1</td>\n",
       "    </tr>\n",
       "    <tr>\n",
       "      <th>8</th>\n",
       "      <td>Needless to say, I wasted my money.</td>\n",
       "      <td>0</td>\n",
       "    </tr>\n",
       "    <tr>\n",
       "      <th>9</th>\n",
       "      <td>What a waste of money and time!.</td>\n",
       "      <td>0</td>\n",
       "    </tr>\n",
       "  </tbody>\n",
       "</table>\n",
       "</div>"
      ],
      "text/plain": [
       "                                              Review  Label\n",
       "0  So there is no way for me to plug it in here i...      0\n",
       "1                        Good case, Excellent value.      1\n",
       "2                             Great for the jawbone.      1\n",
       "3  Tied to charger for conversations lasting more...      0\n",
       "4                                  The mic is great.      1\n",
       "5  I have to jiggle the plug to get it to line up...      0\n",
       "6  If you have several dozen or several hundred c...      0\n",
       "7        If you are Razr owner...you must have this!      1\n",
       "8                Needless to say, I wasted my money.      0\n",
       "9                   What a waste of money and time!.      0"
      ]
     },
     "execution_count": 19,
     "metadata": {},
     "output_type": "execute_result"
    }
   ],
   "source": [
    "Combined_DF.head(10)"
   ]
  },
  {
   "cell_type": "code",
   "execution_count": 20,
   "metadata": {},
   "outputs": [
    {
     "name": "stdout",
     "output_type": "stream",
     "text": [
      "Total number of sentences:\n",
      "2748\n"
     ]
    }
   ],
   "source": [
    "print \"Total number of sentences:\"\n",
    "print len(Combined_DF)"
   ]
  },
  {
   "cell_type": "code",
   "execution_count": 21,
   "metadata": {},
   "outputs": [
    {
     "name": "stdout",
     "output_type": "stream",
     "text": [
      "Suffle:\n"
     ]
    },
    {
     "data": {
      "text/html": [
       "<div>\n",
       "<style scoped>\n",
       "    .dataframe tbody tr th:only-of-type {\n",
       "        vertical-align: middle;\n",
       "    }\n",
       "\n",
       "    .dataframe tbody tr th {\n",
       "        vertical-align: top;\n",
       "    }\n",
       "\n",
       "    .dataframe thead th {\n",
       "        text-align: right;\n",
       "    }\n",
       "</style>\n",
       "<table border=\"1\" class=\"dataframe\">\n",
       "  <thead>\n",
       "    <tr style=\"text-align: right;\">\n",
       "      <th></th>\n",
       "      <th>Review</th>\n",
       "      <th>Label</th>\n",
       "    </tr>\n",
       "  </thead>\n",
       "  <tbody>\n",
       "    <tr>\n",
       "      <th>0</th>\n",
       "      <td>I love Lane, but I've never seen her in a movi...</td>\n",
       "      <td>0</td>\n",
       "    </tr>\n",
       "    <tr>\n",
       "      <th>1</th>\n",
       "      <td>Go To Place for Gyros.</td>\n",
       "      <td>1</td>\n",
       "    </tr>\n",
       "    <tr>\n",
       "      <th>2</th>\n",
       "      <td>Brilliance indeed.</td>\n",
       "      <td>1</td>\n",
       "    </tr>\n",
       "    <tr>\n",
       "      <th>3</th>\n",
       "      <td>To my disbelief, each dish qualified as the wo...</td>\n",
       "      <td>0</td>\n",
       "    </tr>\n",
       "    <tr>\n",
       "      <th>4</th>\n",
       "      <td>I recently tried Caballero's and I have been b...</td>\n",
       "      <td>1</td>\n",
       "    </tr>\n",
       "    <tr>\n",
       "      <th>5</th>\n",
       "      <td>I posted more detailed comments under the grey...</td>\n",
       "      <td>1</td>\n",
       "    </tr>\n",
       "    <tr>\n",
       "      <th>6</th>\n",
       "      <td>The guy who said he's had better dialogue with...</td>\n",
       "      <td>0</td>\n",
       "    </tr>\n",
       "    <tr>\n",
       "      <th>7</th>\n",
       "      <td>This product is clearly not ready for prime ti...</td>\n",
       "      <td>0</td>\n",
       "    </tr>\n",
       "    <tr>\n",
       "      <th>8</th>\n",
       "      <td>If there is a wind, it is completely useless.</td>\n",
       "      <td>0</td>\n",
       "    </tr>\n",
       "    <tr>\n",
       "      <th>9</th>\n",
       "      <td>I can assure you that you won't be disappointed.</td>\n",
       "      <td>1</td>\n",
       "    </tr>\n",
       "  </tbody>\n",
       "</table>\n",
       "</div>"
      ],
      "text/plain": [
       "                                              Review  Label\n",
       "0  I love Lane, but I've never seen her in a movi...      0\n",
       "1                             Go To Place for Gyros.      1\n",
       "2                               Brilliance indeed.        1\n",
       "3  To my disbelief, each dish qualified as the wo...      0\n",
       "4  I recently tried Caballero's and I have been b...      1\n",
       "5  I posted more detailed comments under the grey...      1\n",
       "6  The guy who said he's had better dialogue with...      0\n",
       "7  This product is clearly not ready for prime ti...      0\n",
       "8      If there is a wind, it is completely useless.      0\n",
       "9   I can assure you that you won't be disappointed.      1"
      ]
     },
     "execution_count": 21,
     "metadata": {},
     "output_type": "execute_result"
    }
   ],
   "source": [
    "print \"Suffle:\"\n",
    "Combined_DF = Combined_DF.sample(frac=1).reset_index(drop=True)\n",
    "Combined_DF.head(10)"
   ]
  },
  {
   "cell_type": "code",
   "execution_count": 23,
   "metadata": {},
   "outputs": [
    {
     "name": "stdout",
     "output_type": "stream",
     "text": [
      "Separating sentences and their labels:\n",
      "\n",
      "________ Reviews _________\n",
      "                                              Review\n",
      "0  I love Lane, but I've never seen her in a movi...\n",
      "1                             Go To Place for Gyros.\n",
      "2                               Brilliance indeed.  \n",
      "3  To my disbelief, each dish qualified as the wo...\n",
      "4  I recently tried Caballero's and I have been b...\n",
      "\n",
      "________ Labels _________\n",
      "0    0\n",
      "1    1\n",
      "2    1\n",
      "3    0\n",
      "4    1\n",
      "Name: Label, dtype: int64\n"
     ]
    }
   ],
   "source": [
    "print \"Separating sentences and their labels:\"\n",
    "Combined_Df_RW = Combined_DF.drop('Label', axis=1)\n",
    "Combined_Df_LB = Combined_DF[\"Label\"]\n",
    "print \"\\n________ Reviews _________\"\n",
    "print Combined_Df_RW.head()\n",
    "print \"\\n________ Labels _________\"\n",
    "print Combined_Df_LB.head()"
   ]
  },
  {
   "cell_type": "markdown",
   "metadata": {},
   "source": [
    "> Some text pre-processing are done in the following steps:"
   ]
  },
  {
   "cell_type": "code",
   "execution_count": 25,
   "metadata": {},
   "outputs": [],
   "source": [
    "Combined_RW_List = Combined_Df_RW['Review'].tolist()"
   ]
  },
  {
   "cell_type": "code",
   "execution_count": 27,
   "metadata": {},
   "outputs": [
    {
     "name": "stdout",
     "output_type": "stream",
     "text": [
      "\n",
      "_________ Sentences list as it is: ___________\n",
      "\n",
      "[\"I love Lane, but I've never seen her in a movie this lousy.  \", 'Go To Place for Gyros.', 'Brilliance indeed.  ', 'To my disbelief, each dish qualified as the worst version of these foods I have ever tasted.', \"I recently tried Caballero's and I have been back every week since!\", \"I posted more detailed comments under the grey or black phone, but i have the Fire Red and it's a great color!\", \"The guy who said he's had better dialogue with his potted plants has it right.  \", \"This product is clearly not ready for prime time, I don't care how cool it looks, if you can't tell a call is coming in it's worthless.\", 'If there is a wind, it is completely useless.', \"I can assure you that you won't be disappointed.\"]\n"
     ]
    }
   ],
   "source": [
    "print \"\\n_________ Sentences list as it is: ___________\\n\"\n",
    "print Combined_RW_List[:10]"
   ]
  },
  {
   "cell_type": "code",
   "execution_count": 28,
   "metadata": {},
   "outputs": [],
   "source": [
    "#Removing punctuations:\n",
    "Combined_RW_List_nopunc = [''.join(c for c in s if c not in string.punctuation) for s in Combined_RW_List]"
   ]
  },
  {
   "cell_type": "code",
   "execution_count": 29,
   "metadata": {},
   "outputs": [
    {
     "name": "stdout",
     "output_type": "stream",
     "text": [
      "\n",
      "_________ Sentences after removing punctuations: ___________\n",
      "\n",
      "['I love Lane but Ive never seen her in a movie this lousy  ', 'Go To Place for Gyros', 'Brilliance indeed  ', 'To my disbelief each dish qualified as the worst version of these foods I have ever tasted', 'I recently tried Caballeros and I have been back every week since', 'I posted more detailed comments under the grey or black phone but i have the Fire Red and its a great color', 'The guy who said hes had better dialogue with his potted plants has it right  ', 'This product is clearly not ready for prime time I dont care how cool it looks if you cant tell a call is coming in its worthless', 'If there is a wind it is completely useless', 'I can assure you that you wont be disappointed']\n"
     ]
    }
   ],
   "source": [
    "print \"\\n_________ Sentences after removing punctuations: ___________\\n\"\n",
    "print Combined_RW_List_nopunc[:10]"
   ]
  },
  {
   "cell_type": "code",
   "execution_count": 31,
   "metadata": {},
   "outputs": [],
   "source": [
    "#Checking whether empty sentences are present:\n",
    "Combined_RW_List_nopunc_noempty = [s for s in Combined_RW_List_nopunc if s]"
   ]
  },
  {
   "cell_type": "code",
   "execution_count": 32,
   "metadata": {},
   "outputs": [],
   "source": [
    "#Converting all charactors to lower case:\n",
    "Combined_RW_List_nopunc_noempty_nocaps = [x.lower() for x in Combined_RW_List_nopunc_noempty]"
   ]
  },
  {
   "cell_type": "code",
   "execution_count": 33,
   "metadata": {},
   "outputs": [
    {
     "name": "stdout",
     "output_type": "stream",
     "text": [
      "\n",
      "_________ Sentences only with lower case letters: ___________\n",
      "\n",
      "['i love lane but ive never seen her in a movie this lousy  ', 'go to place for gyros', 'brilliance indeed  ', 'to my disbelief each dish qualified as the worst version of these foods i have ever tasted', 'i recently tried caballeros and i have been back every week since', 'i posted more detailed comments under the grey or black phone but i have the fire red and its a great color', 'the guy who said hes had better dialogue with his potted plants has it right  ', 'this product is clearly not ready for prime time i dont care how cool it looks if you cant tell a call is coming in its worthless', 'if there is a wind it is completely useless', 'i can assure you that you wont be disappointed']\n"
     ]
    }
   ],
   "source": [
    "print \"\\n_________ Sentences only with lower case letters: ___________\\n\"\n",
    "print Combined_RW_List_nopunc_noempty_nocaps[:10]"
   ]
  },
  {
   "cell_type": "markdown",
   "metadata": {},
   "source": [
    "> Lemmatization:"
   ]
  },
  {
   "cell_type": "code",
   "execution_count": 34,
   "metadata": {},
   "outputs": [],
   "source": [
    "from nltk.stem import WordNetLemmatizer\n",
    "\n",
    "sent_list = []\n",
    "\n",
    "count = 0\n",
    "for item in range(2748):\n",
    "    count += 1\n",
    "    word_string = \"\"\n",
    "    for word in Combined_RW_List_nopunc_noempty_nocaps[item][:].split(): \n",
    "        word_str = text_to_id(word)\n",
    "        new_word = WordNetLemmatizer().lemmatize(word_str, 'v')\n",
    "        word_string += str(new_word) + \" \"\n",
    "    if word_string != \"\":\n",
    "        sent_list.append(word_string) "
   ]
  },
  {
   "cell_type": "code",
   "execution_count": 36,
   "metadata": {},
   "outputs": [
    {
     "name": "stdout",
     "output_type": "stream",
     "text": [
      "\n",
      "_________ Sentences after temmatizing: ___________\n",
      "\n",
      "['i love lane but ive never see her in a movie this lousy ', 'go to place for gyros ', 'brilliance indeed ', 'to my disbelief each dish qualify as the worst version of these foods i have ever taste ', 'i recently try caballeros and i have be back every week since ', 'i post more detail comment under the grey or black phone but i have the fire red and its a great color ', 'the guy who say hes have better dialogue with his pot plant have it right ', 'this product be clearly not ready for prime time i dont care how cool it look if you cant tell a call be come in its worthless ', 'if there be a wind it be completely useless ', 'i can assure you that you wont be disappoint ']\n"
     ]
    }
   ],
   "source": [
    "print \"\\n_________ Sentences after temmatizing: ___________\\n\"\n",
    "print sent_list[:10]"
   ]
  },
  {
   "cell_type": "code",
   "execution_count": 37,
   "metadata": {},
   "outputs": [],
   "source": [
    "Cleaned_Comb_RW_df = pd.DataFrame(sent_list)\n",
    "Cleaned_Comb_RW_df.columns = ['Reviews_Cleaned']"
   ]
  },
  {
   "cell_type": "code",
   "execution_count": 38,
   "metadata": {},
   "outputs": [
    {
     "name": "stdout",
     "output_type": "stream",
     "text": [
      "                                     Reviews_Cleaned\n",
      "0  i love lane but ive never see her in a movie t...\n",
      "1                             go to place for gyros \n",
      "2                                 brilliance indeed \n",
      "3  to my disbelief each dish qualify as the worst...\n",
      "4  i recently try caballeros and i have be back e...\n",
      "5  i post more detail comment under the grey or b...\n",
      "6  the guy who say hes have better dialogue with ...\n",
      "7  this product be clearly not ready for prime ti...\n",
      "8       if there be a wind it be completely useless \n",
      "9      i can assure you that you wont be disappoint \n"
     ]
    }
   ],
   "source": [
    "print Cleaned_Comb_RW_df.head(10)"
   ]
  },
  {
   "cell_type": "markdown",
   "metadata": {},
   "source": [
    "> Occurance (frequency) of each word is presented bellow:"
   ]
  },
  {
   "cell_type": "code",
   "execution_count": 39,
   "metadata": {},
   "outputs": [],
   "source": [
    "from collections import Counter\n",
    "\n",
    "Long_sent = \"\"\n",
    "\n",
    "for item in sent_list:\n",
    "    Long_sent += item\n",
    "    Long_sent += \" \"\n",
    "\n",
    "sent_list_split = Long_sent.split()\n",
    "Counter = Counter(sent_list_split)\n",
    "most_occur = Counter.most_common(20)"
   ]
  },
  {
   "cell_type": "code",
   "execution_count": 40,
   "metadata": {},
   "outputs": [
    {
     "name": "stdout",
     "output_type": "stream",
     "text": [
      "\n",
      "_________ Most occured words with their frequencies before removing stop words: ___________\n",
      "\n",
      "[('the', 1940), ('be', 1872), ('and', 1129), ('i', 887), ('a', 886), ('to', 666), ('it', 665), ('this', 639), ('of', 621), ('have', 420), ('in', 398), ('for', 336), ('not', 306), ('that', 303), ('with', 273), ('my', 251), ('very', 243), ('good', 226), ('on', 219), ('great', 207)]\n"
     ]
    }
   ],
   "source": [
    "print \"\\n_________ Most occured words with their frequencies before removing stop words: ___________\\n\"\n",
    "print most_occur"
   ]
  },
  {
   "cell_type": "code",
   "execution_count": 93,
   "metadata": {},
   "outputs": [
    {
     "data": {
      "text/plain": [
       "<matplotlib.legend.Legend at 0x10e583710>"
      ]
     },
     "execution_count": 93,
     "metadata": {},
     "output_type": "execute_result"
    },
    {
     "data": {
      "image/png": "[encoded data removed]",
      "text/plain": [
       "<matplotlib.figure.Figure at 0x10e1f4b10>"
      ]
     },
     "metadata": {},
     "output_type": "display_data"
    }
   ],
   "source": [
    "import numpy as np\n",
    "import matplotlib.pyplot as pltpy\n",
    "\n",
    "n_groups = len(most_occur)\n",
    "\n",
    "freq = [x[1] for x in most_occur]\n",
    "words = [x[0] for x in most_occur]\n",
    "\n",
    "fig, ax = pltpy.subplots(figsize=(10, 4))\n",
    "\n",
    "index = np.arange(n_groups)\n",
    "bar_width = 0.8\n",
    "opacity = 0.6\n",
    "\n",
    "rects1 = pltpy.bar(index, freq, bar_width,\n",
    "                 alpha=opacity,\n",
    "                 color='b',\n",
    "                 label='Ocurrences')\n",
    "\n",
    "pltpy.xlabel('Words', size=16)\n",
    "pltpy.ylabel('Occurrence', size=16)\n",
    "pltpy.title('Occurrences by word with stop words')\n",
    "pltpy.xticks(index + bar_width, words)\n",
    "pltpy.xticks(index, words)\n",
    "pltpy.legend()"
   ]
  },
  {
   "cell_type": "markdown",
   "metadata": {},
   "source": [
    "> Removing stop words:"
   ]
  },
  {
   "cell_type": "code",
   "execution_count": 94,
   "metadata": {},
   "outputs": [
    {
     "name": "stdout",
     "output_type": "stream",
     "text": [
      "[nltk_data] Downloading package stopwords to\n",
      "[nltk_data]     /Users/nalindakulathunga/nltk_data...\n",
      "[nltk_data]   Package stopwords is already up-to-date!\n",
      "[nltk_data] Downloading package punkt to\n",
      "[nltk_data]     /Users/nalindakulathunga/nltk_data...\n",
      "[nltk_data]   Package punkt is already up-to-date!\n"
     ]
    },
    {
     "data": {
      "text/plain": [
       "True"
      ]
     },
     "execution_count": 94,
     "metadata": {},
     "output_type": "execute_result"
    }
   ],
   "source": [
    "#Downloading required data\n",
    "nltk.download('stopwords')\n",
    "nltk.download('punkt')"
   ]
  },
  {
   "cell_type": "code",
   "execution_count": 95,
   "metadata": {},
   "outputs": [],
   "source": [
    "from nltk.corpus import stopwords\n",
    "from nltk.tokenize import word_tokenize\n",
    " \n",
    "stop_words = set(stopwords.words('english')) \n",
    "word_tokens = word_tokenize(Long_sent) \n",
    "Long_sent_WO_stop = [w for w in word_tokens if not w in stop_words]\n",
    " \n",
    "Long_sent_WO_stop = []\n",
    "\n",
    "for w in word_tokens:\n",
    "    if w not in stop_words:\n",
    "        Long_sent_WO_stop.append(w)"
   ]
  },
  {
   "cell_type": "code",
   "execution_count": 96,
   "metadata": {},
   "outputs": [],
   "source": [
    "from collections import Counter\n",
    "Long_sent_new = \"\"\n",
    "\n",
    "for item in Long_sent_WO_stop:\n",
    "    Long_sent_new += item\n",
    "    Long_sent_new += \" \"\n",
    "    \n",
    "sent_list_split_new = Long_sent_new.split()\n",
    "Counter_2 = Counter(sent_list_split_new)\n",
    "most_occur_new = Counter_2.most_common(20)"
   ]
  },
  {
   "cell_type": "code",
   "execution_count": 97,
   "metadata": {},
   "outputs": [
    {
     "name": "stdout",
     "output_type": "stream",
     "text": [
      "[('good', 226), ('great', 207), ('film', 184), ('movie', 177), ('phone', 173), ('one', 143), ('like', 142), ('work', 141), ('0', 138), ('time', 134), ('1', 128), ('place', 126), ('make', 125), ('go', 125), ('get', 124), ('food', 124), ('service', 107), ('really', 103), ('bad', 99), ('use', 91)]\n"
     ]
    }
   ],
   "source": [
    "print most_occur_new"
   ]
  },
  {
   "cell_type": "code",
   "execution_count": 99,
   "metadata": {},
   "outputs": [
    {
     "data": {
      "image/png": "[encoded data removed]",
      "text/plain": [
       "<matplotlib.figure.Figure at 0x114332050>"
      ]
     },
     "metadata": {},
     "output_type": "display_data"
    }
   ],
   "source": [
    "n_groups = len(most_occur_new)\n",
    "\n",
    "freq = [x[1] for x in most_occur_new]\n",
    "words = [x[0] for x in most_occur_new]\n",
    "\n",
    "fig, ax = pltpy.subplots(figsize=(10, 4))\n",
    "\n",
    "index = np.arange(n_groups)\n",
    "bar_width = 0.8\n",
    "\n",
    "opacity = 0.6\n",
    "\n",
    "rects1 = pltpy.bar(index, freq, bar_width,\n",
    "                 alpha=opacity,\n",
    "                 color='b',\n",
    "                 label='Ocurrences')\n",
    "\n",
    "\n",
    "pltpy.xlabel('Words', size=16)\n",
    "pltpy.ylabel('Occurrence', size=16)\n",
    "pltpy.title('Occurrences by word wothout stop words')\n",
    "pltpy.xticks(index, words)\n",
    "pltpy.legend()\n",
    "\n",
    "pltpy.tight_layout()\n",
    "pltpy.show()"
   ]
  },
  {
   "cell_type": "code",
   "execution_count": null,
   "metadata": {},
   "outputs": [],
   "source": []
  }
 ],
 "metadata": {
  "kernelspec": {
   "display_name": "Python 2",
   "language": "python",
   "name": "python2"
  },
  "language_info": {
   "codemirror_mode": {
    "name": "ipython",
    "version": 2
   },
   "file_extension": ".py",
   "mimetype": "text/x-python",
   "name": "python",
   "nbconvert_exporter": "python",
   "pygments_lexer": "ipython2",
   "version": "2.7.13"
  }
 },
 "nbformat": 4,
 "nbformat_minor": 2
}
